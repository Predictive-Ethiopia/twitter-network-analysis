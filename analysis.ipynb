{
 "cells": [
  {
   "cell_type": "markdown",
   "metadata": {},
   "source": [
    "# Twitter datasets analysis"
   ]
  },
  {
   "cell_type": "markdown",
   "metadata": {},
   "source": [
    "## Imports and configs"
   ]
  },
  {
   "cell_type": "code",
   "execution_count": 1,
   "metadata": {},
   "outputs": [],
   "source": [
    "%load_ext autoreload\n",
    "%autoreload 2\n",
    "%matplotlib inline\n",
    "\n",
    "import logging\n",
    "import matplotlib.pyplot as plt\n",
    "import seaborn as sns\n",
    "from concurrent.futures import ProcessPoolExecutor, as_completed\n",
    "\n",
    "import helper\n",
    "from config import Config\n",
    "from stages import PreProcessing, CommunityDetection, Metrics, Analysis, Comparisons\n",
    "\n",
    "logging.basicConfig(filename='logs/debug.log', filemode='w', level=logging.DEBUG,\n",
    "                    format='%(levelname)s - %(name)s - %(message)s')"
   ]
  },
  {
   "cell_type": "markdown",
   "metadata": {},
   "source": [
    "DEMON parameters:\n",
    "* *epsilon*: the tolerance required in order to merge communities\n",
    "* *min_community_size*: minimum number of nodes needed to form a community"
   ]
  },
  {
   "cell_type": "code",
   "execution_count": 2,
   "metadata": {},
   "outputs": [],
   "source": [
    "# data_filenames = ['kdd']\n",
    "data_filenames = ['ll', 'kdd', 'ECMLPKDD2018', 'emnlp2018', '#GTC18', '#IPAW2018', 'msignite2018', '#NIPS2017', 'ona18', '#provenanceweek', 'recsys', '#TCF2018']\n",
    "epsilon = [0.25, 0.5]\n",
    "min_community_size = 5\n",
    "\n",
    "configs = {}\n",
    "for data_fn in data_filenames:\n",
    "    configs[data_fn] = []\n",
    "    for e in epsilon:\n",
    "        config = Config(\n",
    "            data_filename=data_fn,\n",
    "            demon={\n",
    "                'epsilon': e,\n",
    "                'min_community_size': min_community_size\n",
    "            })\n",
    "        configs[data_fn].append(config)"
   ]
  },
  {
   "cell_type": "markdown",
   "metadata": {},
   "source": [
    "## Stages"
   ]
  },
  {
   "cell_type": "markdown",
   "metadata": {},
   "source": [
    "### 1. Pre Processing"
   ]
  },
  {
   "cell_type": "code",
   "execution_count": 4,
   "metadata": {},
   "outputs": [
    {
     "name": "stdout",
     "output_type": "stream",
     "text": [
      "START job for dataset:ll e:0.25 mcs:5\n",
      "START job for dataset:kdd e:0.25 mcs:5\n",
      "START job for dataset:kdd e:0.5 mcs:5\n",
      "START job for dataset:ll e:0.5 mcs:5\n"
     ]
    },
    {
     "name": "stderr",
     "output_type": "stream",
     "text": [
      "Exec: 100%|████████████████████████\n"
     ]
    },
    {
     "name": "stdout",
     "output_type": "stream",
     "text": [
      "Time:  'execute' 0.36 sec\n",
      "------------------------------------\n"
     ]
    },
    {
     "name": "stderr",
     "output_type": "stream",
     "text": [
      "Exec: 100%|████████████████████████\n"
     ]
    },
    {
     "name": "stdout",
     "output_type": "stream",
     "text": [
      "Time:  'execute' 0.48 sec\n",
      "get community subgraphs for e:0.5 mcs:5\n",
      "------------------------------------\n"
     ]
    },
    {
     "data": {
      "text/plain": [
       "HBox(children=(IntProgress(value=0, max=10), HTML(value='')))"
      ]
     },
     "metadata": {},
     "output_type": "display_data"
    },
    {
     "name": "stdout",
     "output_type": "stream",
     "text": [
      "get community subgraphs for e:0.25 mcs:5\n",
      "\n",
      "get pquality for e:0.5 mcs:5\n"
     ]
    },
    {
     "data": {
      "text/plain": [
       "HBox(children=(IntProgress(value=0, max=9), HTML(value='')))"
      ]
     },
     "metadata": {},
     "output_type": "display_data"
    },
    {
     "name": "stdout",
     "output_type": "stream",
     "text": [
      "\n",
      "get pquality for e:0.25 mcs:5\n"
     ]
    },
    {
     "data": {
      "text/plain": [
       "HBox(children=(IntProgress(value=0, max=11), HTML(value='')))"
      ]
     },
     "metadata": {},
     "output_type": "display_data"
    },
    {
     "data": {
      "text/plain": [
       "HBox(children=(IntProgress(value=0, max=11), HTML(value='')))"
      ]
     },
     "metadata": {},
     "output_type": "display_data"
    },
    {
     "name": "stdout",
     "output_type": "stream",
     "text": [
      "\n",
      "\n",
      "START job for dataset:ECMLPKDD2018 e:0.25 mcs:5\n"
     ]
    },
    {
     "name": "stderr",
     "output_type": "stream",
     "text": [
      "Exec: 100%|████████████████████████\n"
     ]
    },
    {
     "name": "stdout",
     "output_type": "stream",
     "text": [
      "Time:  'execute' 0.07 sec\n",
      "------------------------------------\n",
      "START job for dataset:ECMLPKDD2018 e:0.5 mcs:5\n",
      "START job for dataset:emnlp2018 e:0.25 mcs:5\n"
     ]
    },
    {
     "name": "stderr",
     "output_type": "stream",
     "text": [
      "Exec: 100%|████████████████████████\n",
      "Exec:   0%|                        "
     ]
    },
    {
     "name": "stdout",
     "output_type": "stream",
     "text": [
      "Time:  'execute' 0.04 sec\n",
      "------------------------------------\n",
      "START job for dataset:emnlp2018 e:0.5 mcs:5\n"
     ]
    },
    {
     "name": "stderr",
     "output_type": "stream",
     "text": [
      "Exec: 100%|████████████████████████\n"
     ]
    },
    {
     "name": "stdout",
     "output_type": "stream",
     "text": [
      "Time:  'execute' 0.29 sec\n",
      "------------------------------------\n"
     ]
    },
    {
     "name": "stderr",
     "output_type": "stream",
     "text": [
      "\r",
      "Exec:  17%|████                    "
     ]
    },
    {
     "name": "stdout",
     "output_type": "stream",
     "text": [
      "get community subgraphs for e:0.25 mcs:5\n"
     ]
    },
    {
     "name": "stderr",
     "output_type": "stream",
     "text": [
      "Exec: 100%|████████████████████████\n"
     ]
    },
    {
     "name": "stdout",
     "output_type": "stream",
     "text": [
      "Time:  'execute' 0.37 sec\n"
     ]
    },
    {
     "data": {
      "text/plain": [
       "HBox(children=(IntProgress(value=0, max=3), HTML(value='')))"
      ]
     },
     "metadata": {},
     "output_type": "display_data"
    },
    {
     "name": "stdout",
     "output_type": "stream",
     "text": [
      "------------------------------------\n",
      "get community subgraphs for e:0.5 mcs:5\n",
      "\n",
      "get pquality for e:0.25 mcs:5\n"
     ]
    },
    {
     "data": {
      "text/plain": [
       "HBox(children=(IntProgress(value=0, max=3), HTML(value='')))"
      ]
     },
     "metadata": {},
     "output_type": "display_data"
    },
    {
     "data": {
      "text/plain": [
       "HBox(children=(IntProgress(value=0, max=11), HTML(value='')))"
      ]
     },
     "metadata": {},
     "output_type": "display_data"
    },
    {
     "name": "stdout",
     "output_type": "stream",
     "text": [
      "\n",
      "get pquality for e:0.5 mcs:5\n"
     ]
    },
    {
     "name": "stderr",
     "output_type": "stream",
     "text": [
      "\r",
      "Exec:   0%|                        "
     ]
    },
    {
     "data": {
      "text/plain": [
       "HBox(children=(IntProgress(value=0, max=11), HTML(value='')))"
      ]
     },
     "metadata": {},
     "output_type": "display_data"
    },
    {
     "name": "stdout",
     "output_type": "stream",
     "text": [
      "\n"
     ]
    },
    {
     "name": "stderr",
     "output_type": "stream",
     "text": [
      "\r",
      "Exec:   0%|                        "
     ]
    },
    {
     "name": "stdout",
     "output_type": "stream",
     "text": [
      "START job for dataset:#GTC18 e:0.25 mcs:5\n"
     ]
    },
    {
     "name": "stderr",
     "output_type": "stream",
     "text": [
      "Exec:   0%|                        "
     ]
    },
    {
     "name": "stdout",
     "output_type": "stream",
     "text": [
      "\n"
     ]
    },
    {
     "name": "stderr",
     "output_type": "stream",
     "text": [
      "\r",
      "Exec:  48%|███████████▌            "
     ]
    },
    {
     "name": "stdout",
     "output_type": "stream",
     "text": [
      "START job for dataset:#GTC18 e:0.5 mcs:5\n"
     ]
    },
    {
     "name": "stderr",
     "output_type": "stream",
     "text": [
      "Exec: 100%|████████████████████████\n",
      "Exec:   0%|                        "
     ]
    },
    {
     "name": "stdout",
     "output_type": "stream",
     "text": [
      "Time:  'execute' 0.24 sec\n",
      "------------------------------------\n"
     ]
    },
    {
     "name": "stderr",
     "output_type": "stream",
     "text": [
      "\r",
      "Exec:   0%|                        "
     ]
    },
    {
     "name": "stdout",
     "output_type": "stream",
     "text": [
      "get community subgraphs for e:0.25 mcs:5\n"
     ]
    },
    {
     "name": "stderr",
     "output_type": "stream",
     "text": [
      "Exec: 100%|████████████████████████\n",
      "Exec:   0%|                        "
     ]
    },
    {
     "name": "stdout",
     "output_type": "stream",
     "text": [
      "Time:  'execute' 0.22 sec\n",
      "------------------------------------\n"
     ]
    },
    {
     "data": {
      "text/plain": [
       "HBox(children=(IntProgress(value=0, max=2), HTML(value='')))"
      ]
     },
     "metadata": {},
     "output_type": "display_data"
    },
    {
     "name": "stdout",
     "output_type": "stream",
     "text": [
      "get community subgraphs for e:0.5 mcs:5\n",
      "\n",
      "get pquality for e:0.25 mcs:5\n"
     ]
    },
    {
     "data": {
      "text/plain": [
       "HBox(children=(IntProgress(value=0, max=1), HTML(value='')))"
      ]
     },
     "metadata": {},
     "output_type": "display_data"
    },
    {
     "data": {
      "text/plain": [
       "HBox(children=(IntProgress(value=0, max=11), HTML(value='')))"
      ]
     },
     "metadata": {},
     "output_type": "display_data"
    },
    {
     "name": "stderr",
     "output_type": "stream",
     "text": [
      "\r",
      "Exec:   0%|                        "
     ]
    },
    {
     "name": "stdout",
     "output_type": "stream",
     "text": [
      "\n",
      "get pquality for e:0.5 mcs:5\n"
     ]
    },
    {
     "data": {
      "text/plain": [
       "HBox(children=(IntProgress(value=0, max=11), HTML(value='')))"
      ]
     },
     "metadata": {},
     "output_type": "display_data"
    },
    {
     "name": "stderr",
     "output_type": "stream",
     "text": [
      "\r",
      "Exec:   0%|                        "
     ]
    },
    {
     "name": "stdout",
     "output_type": "stream",
     "text": [
      "\n"
     ]
    },
    {
     "name": "stderr",
     "output_type": "stream",
     "text": [
      "\r",
      "Exec:   0%|                        "
     ]
    },
    {
     "name": "stdout",
     "output_type": "stream",
     "text": [
      "START job for dataset:#IPAW2018 e:0.25 mcs:5\n"
     ]
    },
    {
     "name": "stderr",
     "output_type": "stream",
     "text": [
      "Exec: 100%|████████████████████████\n"
     ]
    },
    {
     "name": "stdout",
     "output_type": "stream",
     "text": [
      "Time:  'execute' 0.03 sec\n"
     ]
    },
    {
     "name": "stderr",
     "output_type": "stream",
     "text": [
      "\r",
      "Exec:   0%|                        "
     ]
    },
    {
     "name": "stdout",
     "output_type": "stream",
     "text": [
      "------------------------------------\n",
      "START job for dataset:#IPAW2018 e:0.5 mcs:5\n",
      "\n"
     ]
    },
    {
     "name": "stderr",
     "output_type": "stream",
     "text": [
      "Exec: 100%|████████████████████████\n"
     ]
    },
    {
     "name": "stdout",
     "output_type": "stream",
     "text": [
      "Time:  'execute' 0.04 sec\n",
      "------------------------------------\n",
      "START job for dataset:msignite2018 e:0.25 mcs:5\n",
      "START job for dataset:msignite2018 e:0.5 mcs:5\n"
     ]
    },
    {
     "name": "stderr",
     "output_type": "stream",
     "text": [
      "Exec: 100%|████████████████████████\n"
     ]
    },
    {
     "name": "stdout",
     "output_type": "stream",
     "text": [
      "Time:  'execute' 0.09 sec\n",
      "------------------------------------\n"
     ]
    },
    {
     "name": "stderr",
     "output_type": "stream",
     "text": [
      "Exec: 100%|████████████████████████\n"
     ]
    },
    {
     "name": "stdout",
     "output_type": "stream",
     "text": [
      "Time:  'execute' 0.11 sec\n",
      "------------------------------------\n"
     ]
    },
    {
     "name": "stderr",
     "output_type": "stream",
     "text": [
      "\r",
      "Exec:   0%|                        "
     ]
    },
    {
     "name": "stdout",
     "output_type": "stream",
     "text": [
      "get community subgraphs for e:0.25 mcs:5\n",
      "get community subgraphs for e:0.5 mcs:5\n"
     ]
    },
    {
     "name": "stderr",
     "output_type": "stream",
     "text": [
      "\r",
      "Exec:   0%|                        "
     ]
    },
    {
     "data": {
      "text/plain": [
       "HBox(children=(IntProgress(value=0, max=2), HTML(value='')))"
      ]
     },
     "metadata": {},
     "output_type": "display_data"
    },
    {
     "name": "stdout",
     "output_type": "stream",
     "text": [
      "\n",
      "get pquality for e:0.25 mcs:5\n"
     ]
    },
    {
     "name": "stderr",
     "output_type": "stream",
     "text": [
      "\r",
      "Exec:   0%|                        "
     ]
    },
    {
     "data": {
      "text/plain": [
       "HBox(children=(IntProgress(value=0, max=2), HTML(value='')))"
      ]
     },
     "metadata": {},
     "output_type": "display_data"
    },
    {
     "name": "stdout",
     "output_type": "stream",
     "text": [
      "\n"
     ]
    },
    {
     "data": {
      "text/plain": [
       "HBox(children=(IntProgress(value=0, max=11), HTML(value='')))"
      ]
     },
     "metadata": {},
     "output_type": "display_data"
    },
    {
     "name": "stdout",
     "output_type": "stream",
     "text": [
      "get pquality for e:0.5 mcs:5\n"
     ]
    },
    {
     "data": {
      "text/plain": [
       "HBox(children=(IntProgress(value=0, max=11), HTML(value='')))"
      ]
     },
     "metadata": {},
     "output_type": "display_data"
    },
    {
     "name": "stdout",
     "output_type": "stream",
     "text": [
      "\n"
     ]
    },
    {
     "name": "stderr",
     "output_type": "stream",
     "text": [
      "\r",
      "Exec:   0%|                        "
     ]
    },
    {
     "name": "stdout",
     "output_type": "stream",
     "text": [
      "START job for dataset:#NIPS2017 e:0.25 mcs:5\n"
     ]
    },
    {
     "name": "stderr",
     "output_type": "stream",
     "text": [
      "\r",
      "Exec:   0%|                        "
     ]
    },
    {
     "name": "stdout",
     "output_type": "stream",
     "text": [
      "\n"
     ]
    },
    {
     "name": "stderr",
     "output_type": "stream",
     "text": [
      "\r",
      "Exec:  13%|███                     "
     ]
    },
    {
     "name": "stdout",
     "output_type": "stream",
     "text": [
      "START job for dataset:#NIPS2017 e:0.5 mcs:5\n"
     ]
    },
    {
     "name": "stderr",
     "output_type": "stream",
     "text": [
      "Exec: 100%|████████████████████████\n"
     ]
    },
    {
     "name": "stdout",
     "output_type": "stream",
     "text": [
      "Time:  'execute' 0.50 sec\n",
      "------------------------------------\n"
     ]
    },
    {
     "name": "stderr",
     "output_type": "stream",
     "text": [
      "\r",
      "Exec:  45%|██████████▉             "
     ]
    },
    {
     "name": "stdout",
     "output_type": "stream",
     "text": [
      "get community subgraphs for e:0.25 mcs:5\n"
     ]
    },
    {
     "name": "stderr",
     "output_type": "stream",
     "text": [
      "Exec: 100%|████████████████████████\n"
     ]
    },
    {
     "name": "stdout",
     "output_type": "stream",
     "text": [
      "Time:  'execute' 0.47 sec\n",
      "------------------------------------\n"
     ]
    },
    {
     "data": {
      "text/plain": [
       "HBox(children=(IntProgress(value=0, max=2), HTML(value='')))"
      ]
     },
     "metadata": {},
     "output_type": "display_data"
    },
    {
     "name": "stdout",
     "output_type": "stream",
     "text": [
      "get community subgraphs for e:0.5 mcs:5\n",
      "\n",
      "get pquality for e:0.25 mcs:5\n"
     ]
    },
    {
     "data": {
      "text/plain": [
       "HBox(children=(IntProgress(value=0, max=2), HTML(value='')))"
      ]
     },
     "metadata": {},
     "output_type": "display_data"
    },
    {
     "data": {
      "text/plain": [
       "HBox(children=(IntProgress(value=0, max=11), HTML(value='')))"
      ]
     },
     "metadata": {},
     "output_type": "display_data"
    },
    {
     "name": "stdout",
     "output_type": "stream",
     "text": [
      "\n",
      "get pquality for e:0.5 mcs:5\n",
      "\n"
     ]
    },
    {
     "data": {
      "text/plain": [
       "HBox(children=(IntProgress(value=0, max=11), HTML(value='')))"
      ]
     },
     "metadata": {},
     "output_type": "display_data"
    },
    {
     "name": "stdout",
     "output_type": "stream",
     "text": [
      "START job for dataset:ona18 e:0.25 mcs:5\n",
      "\n"
     ]
    },
    {
     "name": "stderr",
     "output_type": "stream",
     "text": [
      "\r",
      "Exec:   0%|                        "
     ]
    },
    {
     "name": "stdout",
     "output_type": "stream",
     "text": [
      "START job for dataset:ona18 e:0.5 mcs:5\n"
     ]
    },
    {
     "name": "stderr",
     "output_type": "stream",
     "text": [
      "Exec: 100%|████████████████████████\n"
     ]
    },
    {
     "name": "stdout",
     "output_type": "stream",
     "text": [
      "Time:  'execute' 3.92 sec\n",
      "------------------------------------\n"
     ]
    },
    {
     "name": "stderr",
     "output_type": "stream",
     "text": [
      "Exec:  85%|████████████████████▍   "
     ]
    },
    {
     "name": "stdout",
     "output_type": "stream",
     "text": [
      "get community subgraphs for e:0.25 mcs:5\n"
     ]
    },
    {
     "name": "stderr",
     "output_type": "stream",
     "text": [
      "Exec:   0%|                        "
     ]
    },
    {
     "data": {
      "text/plain": [
       "HBox(children=(IntProgress(value=0, max=33), HTML(value='')))"
      ]
     },
     "metadata": {},
     "output_type": "display_data"
    },
    {
     "name": "stderr",
     "output_type": "stream",
     "text": [
      "Exec: 100%|████████████████████████\n"
     ]
    },
    {
     "name": "stdout",
     "output_type": "stream",
     "text": [
      "Time:  'execute' 4.40 sec\n",
      "------------------------------------\n",
      "\n",
      "get pquality for e:0.25 mcs:5\n"
     ]
    },
    {
     "data": {
      "text/plain": [
       "HBox(children=(IntProgress(value=0, max=11), HTML(value='')))"
      ]
     },
     "metadata": {},
     "output_type": "display_data"
    },
    {
     "name": "stderr",
     "output_type": "stream",
     "text": [
      "\r",
      "Exec:   0%|                        "
     ]
    },
    {
     "name": "stdout",
     "output_type": "stream",
     "text": [
      "\n"
     ]
    },
    {
     "name": "stderr",
     "output_type": "stream",
     "text": [
      "Exec:   0%|                        "
     ]
    },
    {
     "name": "stdout",
     "output_type": "stream",
     "text": [
      "get community subgraphs for e:0.5 mcs:5\n"
     ]
    },
    {
     "name": "stderr",
     "output_type": "stream",
     "text": [
      "\r",
      "Exec:   0%|                        "
     ]
    },
    {
     "data": {
      "text/plain": [
       "HBox(children=(IntProgress(value=0, max=59), HTML(value='')))"
      ]
     },
     "metadata": {},
     "output_type": "display_data"
    },
    {
     "name": "stdout",
     "output_type": "stream",
     "text": [
      "\n",
      "get pquality for e:0.5 mcs:5\n"
     ]
    },
    {
     "name": "stderr",
     "output_type": "stream",
     "text": [
      "\r",
      "Exec:   0%|                        "
     ]
    },
    {
     "data": {
      "text/plain": [
       "HBox(children=(IntProgress(value=0, max=11), HTML(value='')))"
      ]
     },
     "metadata": {},
     "output_type": "display_data"
    },
    {
     "name": "stderr",
     "output_type": "stream",
     "text": [
      "\r",
      "Exec:   0%|                        "
     ]
    },
    {
     "name": "stdout",
     "output_type": "stream",
     "text": [
      "\n"
     ]
    },
    {
     "name": "stderr",
     "output_type": "stream",
     "text": [
      "Exec:   0%|                        "
     ]
    },
    {
     "name": "stdout",
     "output_type": "stream",
     "text": [
      "START job for dataset:#provenanceweek e:0.25 mcs:5\n"
     ]
    },
    {
     "name": "stderr",
     "output_type": "stream",
     "text": [
      "Exec: 100%|████████████████████████\n",
      "Exec:   0%|                        "
     ]
    },
    {
     "name": "stdout",
     "output_type": "stream",
     "text": [
      "Time:  'execute' 0.06 sec\n",
      "------------------------------------\n",
      "START job for dataset:#provenanceweek e:0.5 mcs:5\n"
     ]
    },
    {
     "name": "stderr",
     "output_type": "stream",
     "text": [
      "Exec: 100%|████████████████████████\n"
     ]
    },
    {
     "name": "stdout",
     "output_type": "stream",
     "text": [
      "Time:  'execute' 0.02 sec\n",
      "------------------------------------\n",
      "START job for dataset:recsys e:0.25 mcs:5\n"
     ]
    },
    {
     "name": "stderr",
     "output_type": "stream",
     "text": [
      "Exec: 100%|████████████████████████\n"
     ]
    },
    {
     "name": "stdout",
     "output_type": "stream",
     "text": [
      "Time:  'execute' 0.23 sec\n",
      "------------------------------------\n"
     ]
    },
    {
     "name": "stderr",
     "output_type": "stream",
     "text": [
      "\r",
      "Exec:   0%|                        "
     ]
    },
    {
     "name": "stdout",
     "output_type": "stream",
     "text": [
      "get community subgraphs for e:0.25 mcs:5\n"
     ]
    },
    {
     "name": "stderr",
     "output_type": "stream",
     "text": [
      "\r",
      "Exec:   0%|                        "
     ]
    },
    {
     "data": {
      "text/plain": [
       "HBox(children=(IntProgress(value=0, max=4), HTML(value='')))"
      ]
     },
     "metadata": {},
     "output_type": "display_data"
    },
    {
     "name": "stderr",
     "output_type": "stream",
     "text": [
      "\r",
      "Exec:   0%|                        "
     ]
    },
    {
     "name": "stdout",
     "output_type": "stream",
     "text": [
      "\n"
     ]
    },
    {
     "name": "stderr",
     "output_type": "stream",
     "text": [
      "\r",
      "Exec:   0%|                        "
     ]
    },
    {
     "name": "stdout",
     "output_type": "stream",
     "text": [
      "get pquality for e:0.25 mcs:5\n"
     ]
    },
    {
     "name": "stderr",
     "output_type": "stream",
     "text": [
      "\r",
      "Exec:   0%|                        "
     ]
    },
    {
     "data": {
      "text/plain": [
       "HBox(children=(IntProgress(value=0, max=11), HTML(value='')))"
      ]
     },
     "metadata": {},
     "output_type": "display_data"
    },
    {
     "name": "stderr",
     "output_type": "stream",
     "text": [
      "Exec:   0%|                        "
     ]
    },
    {
     "name": "stdout",
     "output_type": "stream",
     "text": [
      "\n"
     ]
    },
    {
     "name": "stderr",
     "output_type": "stream",
     "text": [
      "Exec:   0%|                        "
     ]
    },
    {
     "name": "stdout",
     "output_type": "stream",
     "text": [
      "START job for dataset:recsys e:0.5 mcs:5\n",
      "START job for dataset:#TCF2018 e:0.25 mcs:5\n"
     ]
    },
    {
     "name": "stderr",
     "output_type": "stream",
     "text": [
      "Exec: 100%|████████████████████████\n",
      "Exec:  27%|██████▍                 "
     ]
    },
    {
     "name": "stdout",
     "output_type": "stream",
     "text": [
      "Time:  'execute' 0.10 sec\n",
      "------------------------------------\n",
      "START job for dataset:#TCF2018 e:0.5 mcs:5\n"
     ]
    },
    {
     "name": "stderr",
     "output_type": "stream",
     "text": [
      "Exec: 100%|████████████████████████\n",
      "Exec:  76%|██████████████████▎     "
     ]
    },
    {
     "name": "stdout",
     "output_type": "stream",
     "text": [
      "Time:  'execute' 0.06 sec\n",
      "------------------------------------\n"
     ]
    },
    {
     "name": "stderr",
     "output_type": "stream",
     "text": [
      "Exec: 100%|████████████████████████\n"
     ]
    },
    {
     "name": "stdout",
     "output_type": "stream",
     "text": [
      "Time:  'execute' 0.28 sec\n",
      "------------------------------------\n",
      "get community subgraphs for e:0.5 mcs:5\n"
     ]
    },
    {
     "name": "stderr",
     "output_type": "stream",
     "text": [
      "Exec:   0%|                        "
     ]
    },
    {
     "data": {
      "text/plain": [
       "HBox(children=(IntProgress(value=0, max=5), HTML(value='')))"
      ]
     },
     "metadata": {},
     "output_type": "display_data"
    },
    {
     "name": "stdout",
     "output_type": "stream",
     "text": [
      "\n",
      "get pquality for e:0.5 mcs:5\n"
     ]
    },
    {
     "name": "stderr",
     "output_type": "stream",
     "text": [
      "\r",
      "Exec:   0%|                        "
     ]
    },
    {
     "data": {
      "text/plain": [
       "HBox(children=(IntProgress(value=0, max=11), HTML(value='')))"
      ]
     },
     "metadata": {},
     "output_type": "display_data"
    },
    {
     "name": "stderr",
     "output_type": "stream",
     "text": [
      "\r",
      "Exec:   0%|                        "
     ]
    },
    {
     "name": "stdout",
     "output_type": "stream",
     "text": [
      "\n"
     ]
    },
    {
     "name": "stderr",
     "output_type": "stream",
     "text": [
      "Exec: 100%|████████████████████████\n"
     ]
    },
    {
     "name": "stdout",
     "output_type": "stream",
     "text": [
      "Time:  'execute' 197.53 sec\n",
      "------------------------------------\n"
     ]
    },
    {
     "name": "stderr",
     "output_type": "stream",
     "text": [
      "Exec: 100%|████████████████████████\n"
     ]
    },
    {
     "name": "stdout",
     "output_type": "stream",
     "text": [
      "Time:  'execute' 198.20 sec\n",
      "------------------------------------\n",
      "get community subgraphs for e:0.5 mcs:5\n"
     ]
    },
    {
     "data": {
      "text/plain": [
       "HBox(children=(IntProgress(value=0, max=16), HTML(value='')))"
      ]
     },
     "metadata": {},
     "output_type": "display_data"
    },
    {
     "name": "stdout",
     "output_type": "stream",
     "text": [
      "get community subgraphs for e:0.25 mcs:5\n"
     ]
    },
    {
     "data": {
      "text/plain": [
       "HBox(children=(IntProgress(value=0, max=12), HTML(value='')))"
      ]
     },
     "metadata": {},
     "output_type": "display_data"
    },
    {
     "name": "stdout",
     "output_type": "stream",
     "text": [
      "\n",
      "get pquality for e:0.5 mcs:5\n"
     ]
    },
    {
     "data": {
      "text/plain": [
       "HBox(children=(IntProgress(value=0, max=11), HTML(value='')))"
      ]
     },
     "metadata": {},
     "output_type": "display_data"
    },
    {
     "name": "stdout",
     "output_type": "stream",
     "text": [
      "\n",
      "get pquality for e:0.25 mcs:5\n"
     ]
    },
    {
     "data": {
      "text/plain": [
       "HBox(children=(IntProgress(value=0, max=11), HTML(value='')))"
      ]
     },
     "metadata": {},
     "output_type": "display_data"
    },
    {
     "name": "stdout",
     "output_type": "stream",
     "text": [
      "\n",
      "\n"
     ]
    },
    {
     "ename": "IndexError",
     "evalue": "list index out of range",
     "traceback": [
      "\u001b[0;31m---------------------------------------------------------------------------\u001b[0m",
      "\u001b[0;31m_RemoteTraceback\u001b[0m                          Traceback (most recent call last)",
      "\u001b[0;31m_RemoteTraceback\u001b[0m: \n\"\"\"\nTraceback (most recent call last):\n  File \"/usr/lib/python3.6/concurrent/futures/process.py\", line 175, in _process_worker\n    r = call_item.fn(*call_item.args, **call_item.kwargs)\n  File \"/usr/lib/python3.6/concurrent/futures/process.py\", line 153, in _process_chunk\n    return [fn(*args) for args in chunk]\n  File \"/usr/lib/python3.6/concurrent/futures/process.py\", line 153, in <listcomp>\n    return [fn(*args) for args in chunk]\n  File \"<ipython-input-4-0a9a563a3e67>\", line 10, in pipeline_job\n    cd.execute()\n  File \"/home/flaprimo/Development/Workspaces/ZikaProject/Python/twitter-network-analysis/stages/community_detection.py\", line 25, in execute\n    self.__load_demon_communities()\n  File \"/home/flaprimo/Development/Workspaces/ZikaProject/Python/twitter-network-analysis/stages/community_detection.py\", line 77, in __load_demon_communities\n    self.nodes = combine.reindex(sorted(combine.columns, key=lambda x: int(x.split('_')[1])), axis=1)\n  File \"/home/flaprimo/Development/Workspaces/ZikaProject/Python/twitter-network-analysis/stages/community_detection.py\", line 77, in <lambda>\n    self.nodes = combine.reindex(sorted(combine.columns, key=lambda x: int(x.split('_')[1])), axis=1)\nIndexError: list index out of range\n\"\"\"",
      "\nThe above exception was the direct cause of the following exception:\n",
      "\u001b[0;31mIndexError\u001b[0m                                Traceback (most recent call last)",
      "\u001b[0;32m<ipython-input-4-0a9a563a3e67>\u001b[0m in \u001b[0;36m<module>\u001b[0;34m()\u001b[0m\n\u001b[1;32m     24\u001b[0m \u001b[0mconfig_list\u001b[0m \u001b[0;34m=\u001b[0m \u001b[0;34m[\u001b[0m\u001b[0mdata\u001b[0m \u001b[0;32mfor\u001b[0m \u001b[0mdata_fn\u001b[0m\u001b[0;34m,\u001b[0m \u001b[0mdata_list\u001b[0m \u001b[0;32min\u001b[0m \u001b[0mconfigs\u001b[0m\u001b[0;34m.\u001b[0m\u001b[0mitems\u001b[0m\u001b[0;34m(\u001b[0m\u001b[0;34m)\u001b[0m \u001b[0;32mfor\u001b[0m \u001b[0mdata\u001b[0m \u001b[0;32min\u001b[0m \u001b[0mdata_list\u001b[0m\u001b[0;34m]\u001b[0m\u001b[0;34m\u001b[0m\u001b[0m\n\u001b[1;32m     25\u001b[0m \u001b[0;32mwith\u001b[0m \u001b[0mProcessPoolExecutor\u001b[0m\u001b[0;34m(\u001b[0m\u001b[0;34m)\u001b[0m \u001b[0;32mas\u001b[0m \u001b[0mexecutor\u001b[0m\u001b[0;34m:\u001b[0m\u001b[0;34m\u001b[0m\u001b[0m\n\u001b[0;32m---> 26\u001b[0;31m     \u001b[0mm\u001b[0m \u001b[0;34m=\u001b[0m \u001b[0mlist\u001b[0m\u001b[0;34m(\u001b[0m\u001b[0mexecutor\u001b[0m\u001b[0;34m.\u001b[0m\u001b[0mmap\u001b[0m\u001b[0;34m(\u001b[0m\u001b[0mpipeline_job\u001b[0m\u001b[0;34m,\u001b[0m \u001b[0mconfig_list\u001b[0m\u001b[0;34m)\u001b[0m\u001b[0;34m)\u001b[0m\u001b[0;34m\u001b[0m\u001b[0m\n\u001b[0m",
      "\u001b[0;32m/usr/lib/python3.6/concurrent/futures/process.py\u001b[0m in \u001b[0;36m_chain_from_iterable_of_lists\u001b[0;34m(iterable)\u001b[0m\n\u001b[1;32m    364\u001b[0m     \u001b[0mcareful\u001b[0m \u001b[0;32mnot\u001b[0m \u001b[0mto\u001b[0m \u001b[0mkeep\u001b[0m \u001b[0mreferences\u001b[0m \u001b[0mto\u001b[0m \u001b[0myielded\u001b[0m \u001b[0mobjects\u001b[0m\u001b[0;34m.\u001b[0m\u001b[0;34m\u001b[0m\u001b[0m\n\u001b[1;32m    365\u001b[0m     \"\"\"\n\u001b[0;32m--> 366\u001b[0;31m     \u001b[0;32mfor\u001b[0m \u001b[0melement\u001b[0m \u001b[0;32min\u001b[0m \u001b[0miterable\u001b[0m\u001b[0;34m:\u001b[0m\u001b[0;34m\u001b[0m\u001b[0m\n\u001b[0m\u001b[1;32m    367\u001b[0m         \u001b[0melement\u001b[0m\u001b[0;34m.\u001b[0m\u001b[0mreverse\u001b[0m\u001b[0;34m(\u001b[0m\u001b[0;34m)\u001b[0m\u001b[0;34m\u001b[0m\u001b[0m\n\u001b[1;32m    368\u001b[0m         \u001b[0;32mwhile\u001b[0m \u001b[0melement\u001b[0m\u001b[0;34m:\u001b[0m\u001b[0;34m\u001b[0m\u001b[0m\n",
      "\u001b[0;32m/usr/lib/python3.6/concurrent/futures/_base.py\u001b[0m in \u001b[0;36mresult_iterator\u001b[0;34m()\u001b[0m\n\u001b[1;32m    584\u001b[0m                     \u001b[0;31m# Careful not to keep a reference to the popped future\u001b[0m\u001b[0;34m\u001b[0m\u001b[0;34m\u001b[0m\u001b[0m\n\u001b[1;32m    585\u001b[0m                     \u001b[0;32mif\u001b[0m \u001b[0mtimeout\u001b[0m \u001b[0;32mis\u001b[0m \u001b[0;32mNone\u001b[0m\u001b[0;34m:\u001b[0m\u001b[0;34m\u001b[0m\u001b[0m\n\u001b[0;32m--> 586\u001b[0;31m                         \u001b[0;32myield\u001b[0m \u001b[0mfs\u001b[0m\u001b[0;34m.\u001b[0m\u001b[0mpop\u001b[0m\u001b[0;34m(\u001b[0m\u001b[0;34m)\u001b[0m\u001b[0;34m.\u001b[0m\u001b[0mresult\u001b[0m\u001b[0;34m(\u001b[0m\u001b[0;34m)\u001b[0m\u001b[0;34m\u001b[0m\u001b[0m\n\u001b[0m\u001b[1;32m    587\u001b[0m                     \u001b[0;32melse\u001b[0m\u001b[0;34m:\u001b[0m\u001b[0;34m\u001b[0m\u001b[0m\n\u001b[1;32m    588\u001b[0m                         \u001b[0;32myield\u001b[0m \u001b[0mfs\u001b[0m\u001b[0;34m.\u001b[0m\u001b[0mpop\u001b[0m\u001b[0;34m(\u001b[0m\u001b[0;34m)\u001b[0m\u001b[0;34m.\u001b[0m\u001b[0mresult\u001b[0m\u001b[0;34m(\u001b[0m\u001b[0mend_time\u001b[0m \u001b[0;34m-\u001b[0m \u001b[0mtime\u001b[0m\u001b[0;34m.\u001b[0m\u001b[0mtime\u001b[0m\u001b[0;34m(\u001b[0m\u001b[0;34m)\u001b[0m\u001b[0;34m)\u001b[0m\u001b[0;34m\u001b[0m\u001b[0m\n",
      "\u001b[0;32m/usr/lib/python3.6/concurrent/futures/_base.py\u001b[0m in \u001b[0;36mresult\u001b[0;34m(self, timeout)\u001b[0m\n\u001b[1;32m    423\u001b[0m                 \u001b[0;32mraise\u001b[0m \u001b[0mCancelledError\u001b[0m\u001b[0;34m(\u001b[0m\u001b[0;34m)\u001b[0m\u001b[0;34m\u001b[0m\u001b[0m\n\u001b[1;32m    424\u001b[0m             \u001b[0;32melif\u001b[0m \u001b[0mself\u001b[0m\u001b[0;34m.\u001b[0m\u001b[0m_state\u001b[0m \u001b[0;34m==\u001b[0m \u001b[0mFINISHED\u001b[0m\u001b[0;34m:\u001b[0m\u001b[0;34m\u001b[0m\u001b[0m\n\u001b[0;32m--> 425\u001b[0;31m                 \u001b[0;32mreturn\u001b[0m \u001b[0mself\u001b[0m\u001b[0;34m.\u001b[0m\u001b[0m__get_result\u001b[0m\u001b[0;34m(\u001b[0m\u001b[0;34m)\u001b[0m\u001b[0;34m\u001b[0m\u001b[0m\n\u001b[0m\u001b[1;32m    426\u001b[0m \u001b[0;34m\u001b[0m\u001b[0m\n\u001b[1;32m    427\u001b[0m             \u001b[0mself\u001b[0m\u001b[0;34m.\u001b[0m\u001b[0m_condition\u001b[0m\u001b[0;34m.\u001b[0m\u001b[0mwait\u001b[0m\u001b[0;34m(\u001b[0m\u001b[0mtimeout\u001b[0m\u001b[0;34m)\u001b[0m\u001b[0;34m\u001b[0m\u001b[0m\n",
      "\u001b[0;32m/usr/lib/python3.6/concurrent/futures/_base.py\u001b[0m in \u001b[0;36m__get_result\u001b[0;34m(self)\u001b[0m\n\u001b[1;32m    382\u001b[0m     \u001b[0;32mdef\u001b[0m \u001b[0m__get_result\u001b[0m\u001b[0;34m(\u001b[0m\u001b[0mself\u001b[0m\u001b[0;34m)\u001b[0m\u001b[0;34m:\u001b[0m\u001b[0;34m\u001b[0m\u001b[0m\n\u001b[1;32m    383\u001b[0m         \u001b[0;32mif\u001b[0m \u001b[0mself\u001b[0m\u001b[0;34m.\u001b[0m\u001b[0m_exception\u001b[0m\u001b[0;34m:\u001b[0m\u001b[0;34m\u001b[0m\u001b[0m\n\u001b[0;32m--> 384\u001b[0;31m             \u001b[0;32mraise\u001b[0m \u001b[0mself\u001b[0m\u001b[0;34m.\u001b[0m\u001b[0m_exception\u001b[0m\u001b[0;34m\u001b[0m\u001b[0m\n\u001b[0m\u001b[1;32m    385\u001b[0m         \u001b[0;32melse\u001b[0m\u001b[0;34m:\u001b[0m\u001b[0;34m\u001b[0m\u001b[0m\n\u001b[1;32m    386\u001b[0m             \u001b[0;32mreturn\u001b[0m \u001b[0mself\u001b[0m\u001b[0;34m.\u001b[0m\u001b[0m_result\u001b[0m\u001b[0;34m\u001b[0m\u001b[0m\n",
      "\u001b[0;31mIndexError\u001b[0m: list index out of range"
     ],
     "output_type": "error"
    }
   ],
   "source": [
    "def pipeline_job(config):\n",
    "    print(f'START job for '\n",
    "          f'dataset:{config.data_filename} e:{config.demon[\"epsilon\"]} mcs:{config.demon[\"min_community_size\"]}')\n",
    "    \n",
    "#     pp = PreProcessing(config) # only once per dataset, same for all the cd parameters\n",
    "#     pp.execute()\n",
    "#     pp.save()\n",
    "    \n",
    "    cd = CommunityDetection(config)\n",
    "    cd.execute()\n",
    "    cd.save()\n",
    "    \n",
    "    m = Metrics(config)\n",
    "    m.execute()\n",
    "    m.save()\n",
    "    \n",
    "    return m\n",
    "#     print(f'END job for '\n",
    "#           f'dataset:\"{config.data_filename}\" e:{config.demon[\"epsilon\"]} mcs:{config.demon[\"min_community_size\"]}')\n",
    "    \n",
    "#     return (config.data_filename, config.demon['epsilon'], m)\n",
    "\n",
    "m = []\n",
    "config_list = [data for data_fn, data_list in configs.items() for data in data_list]\n",
    "with ProcessPoolExecutor() as executor: \n",
    "    m = list(executor.map(pipeline_job, config_list))\n"
   ]
  },
  {
   "cell_type": "markdown",
   "metadata": {},
   "source": [
    "### 2. Community Detection"
   ]
  },
  {
   "cell_type": "code",
   "execution_count": 49,
   "metadata": {},
   "outputs": [
    {
     "name": "stdout",
     "output_type": "stream",
     "text": [
      "ll\n",
      "compute DEMON community detection for e:0.25 mcs:5\n",
      "compute DEMON community detection for e:0.5 mcs:5\n",
      "kdd\n",
      "compute DEMON community detection for e:0.25 mcs:5\n",
      "compute DEMON community detection for e:0.5 mcs:5\n",
      "ECMLPKDD2018\n",
      "compute DEMON community detection for e:0.25 mcs:5\n"
     ]
    },
    {
     "ename": "IndexError",
     "evalue": "list index out of range",
     "traceback": [
      "\u001b[0;31m---------------------------------------------------------------------------\u001b[0m",
      "\u001b[0;31mIndexError\u001b[0m                                Traceback (most recent call last)",
      "\u001b[0;32m<ipython-input-49-9b20e63ae09c>\u001b[0m in \u001b[0;36m<module>\u001b[0;34m()\u001b[0m\n\u001b[1;32m      5\u001b[0m               f'e:{c.demon[\"epsilon\"]} mcs:{c.demon[\"min_community_size\"]}')\n\u001b[1;32m      6\u001b[0m         \u001b[0mcd\u001b[0m \u001b[0;34m=\u001b[0m \u001b[0mCommunityDetection\u001b[0m\u001b[0;34m(\u001b[0m\u001b[0mc\u001b[0m\u001b[0;34m)\u001b[0m\u001b[0;34m\u001b[0m\u001b[0m\n\u001b[0;32m----> 7\u001b[0;31m         \u001b[0mcd\u001b[0m\u001b[0;34m.\u001b[0m\u001b[0mexecute\u001b[0m\u001b[0;34m(\u001b[0m\u001b[0;34m)\u001b[0m\u001b[0;34m\u001b[0m\u001b[0m\n\u001b[0m\u001b[1;32m      8\u001b[0m         \u001b[0mcd\u001b[0m\u001b[0;34m.\u001b[0m\u001b[0msave\u001b[0m\u001b[0;34m(\u001b[0m\u001b[0;34m)\u001b[0m\u001b[0;34m\u001b[0m\u001b[0m\n",
      "\u001b[0;32m~/Development/Workspaces/ZikaProject/Python/twitter-network-analysis/stages/community_detection.py\u001b[0m in \u001b[0;36mexecute\u001b[0;34m(self)\u001b[0m\n\u001b[1;32m     23\u001b[0m         \u001b[0mlogger\u001b[0m\u001b[0;34m.\u001b[0m\u001b[0minfo\u001b[0m\u001b[0;34m(\u001b[0m\u001b[0;34mf'execute'\u001b[0m\u001b[0;34m)\u001b[0m\u001b[0;34m\u001b[0m\u001b[0m\n\u001b[1;32m     24\u001b[0m         \u001b[0mself\u001b[0m\u001b[0;34m.\u001b[0m\u001b[0m__execute_demon\u001b[0m\u001b[0;34m(\u001b[0m\u001b[0;34m)\u001b[0m\u001b[0;34m\u001b[0m\u001b[0m\n\u001b[0;32m---> 25\u001b[0;31m         \u001b[0mself\u001b[0m\u001b[0;34m.\u001b[0m\u001b[0m__load_demon_communities\u001b[0m\u001b[0;34m(\u001b[0m\u001b[0;34m)\u001b[0m\u001b[0;34m\u001b[0m\u001b[0m\n\u001b[0m\u001b[1;32m     26\u001b[0m         \u001b[0mself\u001b[0m\u001b[0;34m.\u001b[0m\u001b[0m__handle_lone_nodes\u001b[0m\u001b[0;34m(\u001b[0m\u001b[0;34m)\u001b[0m\u001b[0;34m\u001b[0m\u001b[0m\n\u001b[1;32m     27\u001b[0m \u001b[0;34m\u001b[0m\u001b[0m\n",
      "\u001b[0;32m~/Development/Workspaces/ZikaProject/Python/twitter-network-analysis/stages/community_detection.py\u001b[0m in \u001b[0;36m__load_demon_communities\u001b[0;34m(self)\u001b[0m\n\u001b[1;32m     75\u001b[0m         \u001b[0mcombine\u001b[0m \u001b[0;34m=\u001b[0m \u001b[0mcombine\u001b[0m\u001b[0;34m.\u001b[0m\u001b[0mgroupby\u001b[0m\u001b[0;34m(\u001b[0m\u001b[0mdf_communities\u001b[0m\u001b[0;34m.\u001b[0m\u001b[0mindex\u001b[0m\u001b[0;34m)\u001b[0m\u001b[0;34m.\u001b[0m\u001b[0msum\u001b[0m\u001b[0;34m(\u001b[0m\u001b[0;34m)\u001b[0m\u001b[0;34m\u001b[0m\u001b[0m\n\u001b[1;32m     76\u001b[0m \u001b[0;34m\u001b[0m\u001b[0m\n\u001b[0;32m---> 77\u001b[0;31m         \u001b[0mself\u001b[0m\u001b[0;34m.\u001b[0m\u001b[0mnodes\u001b[0m \u001b[0;34m=\u001b[0m \u001b[0mcombine\u001b[0m\u001b[0;34m.\u001b[0m\u001b[0mreindex\u001b[0m\u001b[0;34m(\u001b[0m\u001b[0msorted\u001b[0m\u001b[0;34m(\u001b[0m\u001b[0mcombine\u001b[0m\u001b[0;34m.\u001b[0m\u001b[0mcolumns\u001b[0m\u001b[0;34m,\u001b[0m \u001b[0mkey\u001b[0m\u001b[0;34m=\u001b[0m\u001b[0;32mlambda\u001b[0m \u001b[0mx\u001b[0m\u001b[0;34m:\u001b[0m \u001b[0mint\u001b[0m\u001b[0;34m(\u001b[0m\u001b[0mx\u001b[0m\u001b[0;34m.\u001b[0m\u001b[0msplit\u001b[0m\u001b[0;34m(\u001b[0m\u001b[0;34m'_'\u001b[0m\u001b[0;34m)\u001b[0m\u001b[0;34m[\u001b[0m\u001b[0;36m1\u001b[0m\u001b[0;34m]\u001b[0m\u001b[0;34m)\u001b[0m\u001b[0;34m)\u001b[0m\u001b[0;34m,\u001b[0m \u001b[0maxis\u001b[0m\u001b[0;34m=\u001b[0m\u001b[0;36m1\u001b[0m\u001b[0;34m)\u001b[0m\u001b[0;34m\u001b[0m\u001b[0m\n\u001b[0m\u001b[1;32m     78\u001b[0m \u001b[0;34m\u001b[0m\u001b[0m\n\u001b[1;32m     79\u001b[0m         \u001b[0mlogger\u001b[0m\u001b[0;34m.\u001b[0m\u001b[0minfo\u001b[0m\u001b[0;34m(\u001b[0m\u001b[0;34m'load demon communities'\u001b[0m\u001b[0;34m)\u001b[0m\u001b[0;34m\u001b[0m\u001b[0m\n",
      "\u001b[0;32m~/Development/Workspaces/ZikaProject/Python/twitter-network-analysis/stages/community_detection.py\u001b[0m in \u001b[0;36m<lambda>\u001b[0;34m(x)\u001b[0m\n\u001b[1;32m     75\u001b[0m         \u001b[0mcombine\u001b[0m \u001b[0;34m=\u001b[0m \u001b[0mcombine\u001b[0m\u001b[0;34m.\u001b[0m\u001b[0mgroupby\u001b[0m\u001b[0;34m(\u001b[0m\u001b[0mdf_communities\u001b[0m\u001b[0;34m.\u001b[0m\u001b[0mindex\u001b[0m\u001b[0;34m)\u001b[0m\u001b[0;34m.\u001b[0m\u001b[0msum\u001b[0m\u001b[0;34m(\u001b[0m\u001b[0;34m)\u001b[0m\u001b[0;34m\u001b[0m\u001b[0m\n\u001b[1;32m     76\u001b[0m \u001b[0;34m\u001b[0m\u001b[0m\n\u001b[0;32m---> 77\u001b[0;31m         \u001b[0mself\u001b[0m\u001b[0;34m.\u001b[0m\u001b[0mnodes\u001b[0m \u001b[0;34m=\u001b[0m \u001b[0mcombine\u001b[0m\u001b[0;34m.\u001b[0m\u001b[0mreindex\u001b[0m\u001b[0;34m(\u001b[0m\u001b[0msorted\u001b[0m\u001b[0;34m(\u001b[0m\u001b[0mcombine\u001b[0m\u001b[0;34m.\u001b[0m\u001b[0mcolumns\u001b[0m\u001b[0;34m,\u001b[0m \u001b[0mkey\u001b[0m\u001b[0;34m=\u001b[0m\u001b[0;32mlambda\u001b[0m \u001b[0mx\u001b[0m\u001b[0;34m:\u001b[0m \u001b[0mint\u001b[0m\u001b[0;34m(\u001b[0m\u001b[0mx\u001b[0m\u001b[0;34m.\u001b[0m\u001b[0msplit\u001b[0m\u001b[0;34m(\u001b[0m\u001b[0;34m'_'\u001b[0m\u001b[0;34m)\u001b[0m\u001b[0;34m[\u001b[0m\u001b[0;36m1\u001b[0m\u001b[0;34m]\u001b[0m\u001b[0;34m)\u001b[0m\u001b[0;34m)\u001b[0m\u001b[0;34m,\u001b[0m \u001b[0maxis\u001b[0m\u001b[0;34m=\u001b[0m\u001b[0;36m1\u001b[0m\u001b[0;34m)\u001b[0m\u001b[0;34m\u001b[0m\u001b[0m\n\u001b[0m\u001b[1;32m     78\u001b[0m \u001b[0;34m\u001b[0m\u001b[0m\n\u001b[1;32m     79\u001b[0m         \u001b[0mlogger\u001b[0m\u001b[0;34m.\u001b[0m\u001b[0minfo\u001b[0m\u001b[0;34m(\u001b[0m\u001b[0;34m'load demon communities'\u001b[0m\u001b[0;34m)\u001b[0m\u001b[0;34m\u001b[0m\u001b[0m\n",
      "\u001b[0;31mIndexError\u001b[0m: list index out of range"
     ],
     "output_type": "error"
    }
   ],
   "source": [
    "for data_fn, config in configs.items():\n",
    "    print(data_fn)\n",
    "    for c in config:\n",
    "        print(f'compute DEMON community detection for '\n",
    "              f'e:{c.demon[\"epsilon\"]} mcs:{c.demon[\"min_community_size\"]}')\n",
    "        cd = CommunityDetection(c)\n",
    "        cd.execute()\n",
    "        cd.save()"
   ]
  },
  {
   "cell_type": "markdown",
   "metadata": {},
   "source": [
    "### 3. Metrics"
   ]
  },
  {
   "cell_type": "code",
   "execution_count": 9,
   "metadata": {},
   "outputs": [
    {
     "name": "stdout",
     "output_type": "stream",
     "text": [
      "kdd\n",
      "get community subgraphs for e:0.25 mcs:5\n"
     ]
    },
    {
     "data": {
      "text/plain": [
       "HBox(children=(IntProgress(value=0, max=10), HTML(value='')))"
      ]
     },
     "metadata": {},
     "output_type": "display_data"
    },
    {
     "name": "stdout",
     "output_type": "stream",
     "text": [
      "\n",
      "get pquality for e:0.25 mcs:5\n"
     ]
    },
    {
     "data": {
      "text/plain": [
       "HBox(children=(IntProgress(value=0, max=11), HTML(value='')))"
      ]
     },
     "metadata": {},
     "output_type": "display_data"
    },
    {
     "name": "stdout",
     "output_type": "stream",
     "text": [
      "\n",
      "get community subgraphs for e:0.5 mcs:5\n"
     ]
    },
    {
     "data": {
      "text/plain": [
       "HBox(children=(IntProgress(value=0, max=10), HTML(value='')))"
      ]
     },
     "metadata": {},
     "output_type": "display_data"
    },
    {
     "name": "stdout",
     "output_type": "stream",
     "text": [
      "\n",
      "get pquality for e:0.5 mcs:5\n"
     ]
    },
    {
     "data": {
      "text/plain": [
       "HBox(children=(IntProgress(value=0, max=11), HTML(value='')))"
      ]
     },
     "metadata": {},
     "output_type": "display_data"
    },
    {
     "name": "stdout",
     "output_type": "stream",
     "text": [
      "\n"
     ]
    }
   ],
   "source": [
    "m = {}\n",
    "for data_fn, config in configs.items():\n",
    "    m[data_fn] = {}\n",
    "    print(data_fn)\n",
    "    for c in config:\n",
    "        m[data_fn][c.demon['epsilon']] = Metrics(c)\n",
    "        m[data_fn][c.demon['epsilon']].execute()\n",
    "        m[data_fn][c.demon['epsilon']].save()"
   ]
  },
  {
   "cell_type": "markdown",
   "metadata": {},
   "source": [
    "## Analysis"
   ]
  },
  {
   "cell_type": "code",
   "execution_count": 10,
   "metadata": {},
   "outputs": [],
   "source": [
    "e_pairwise_combs = helper.pairwise_combinations(sorted(epsilon, reverse=True))\n",
    "e_pairs = [(e,e) for e in epsilon]\n",
    "metric_name = 'indegree'"
   ]
  },
  {
   "cell_type": "markdown",
   "metadata": {},
   "source": [
    "### Graph metrics\n",
    "Graph analysis."
   ]
  },
  {
   "cell_type": "code",
   "execution_count": 11,
   "metadata": {},
   "outputs": [
    {
     "name": "stdout",
     "output_type": "stream",
     "text": [
      "Metrics for kdd\n"
     ]
    },
    {
     "data": {
      "text/html": [
       "<div>\n",
       "<style scoped>\n",
       "    .dataframe tbody tr th:only-of-type {\n",
       "        vertical-align: middle;\n",
       "    }\n",
       "\n",
       "    .dataframe tbody tr th {\n",
       "        vertical-align: top;\n",
       "    }\n",
       "\n",
       "    .dataframe thead th {\n",
       "        text-align: right;\n",
       "    }\n",
       "</style>\n",
       "<table border=\"1\" class=\"dataframe\">\n",
       "  <thead>\n",
       "    <tr style=\"text-align: right;\">\n",
       "      <th></th>\n",
       "      <th># nodes</th>\n",
       "      <th># edges</th>\n",
       "      <th>avg degree</th>\n",
       "      <th>avg weighted degree</th>\n",
       "      <th>density</th>\n",
       "      <th>connected</th>\n",
       "      <th>strongly conn components</th>\n",
       "      <th>avg clustering</th>\n",
       "      <th>assortativity</th>\n",
       "    </tr>\n",
       "  </thead>\n",
       "  <tbody>\n",
       "    <tr>\n",
       "      <th>0</th>\n",
       "      <td>89</td>\n",
       "      <td>410</td>\n",
       "      <td>9.2135</td>\n",
       "      <td>10.6517</td>\n",
       "      <td>0.0523</td>\n",
       "      <td>False</td>\n",
       "      <td>2</td>\n",
       "      <td>0.6071</td>\n",
       "      <td>-0.3845</td>\n",
       "    </tr>\n",
       "  </tbody>\n",
       "</table>\n",
       "</div>"
      ],
      "text/plain": [
       "   # nodes  # edges  avg degree  avg weighted degree  density  connected  \\\n",
       "0       89      410      9.2135              10.6517   0.0523      False   \n",
       "\n",
       "   strongly conn components  avg clustering  assortativity  \n",
       "0                         2          0.6071        -0.3845  "
      ]
     },
     "metadata": {},
     "output_type": "execute_result"
    }
   ],
   "source": [
    "for data_fn, m_list in m.items():\n",
    "    print(f'Metrics for {data_fn}')\n",
    "    metric_element = list(m_list.values())[0]\n",
    "    display(Metrics.graph_info(metric_element.g))"
   ]
  },
  {
   "cell_type": "markdown",
   "metadata": {},
   "source": [
    "* *# nodes*: number of users.\n",
    "* *# edges*: number of relations between users.\n",
    "* *avg degree*: average number of edges per node.\n",
    "* *avg degree*: average weigth sum per node.\n",
    "* *density*: expresses the how sparse is the adjacency matrix (i.e. how likely that a node has edges). 0 for a graph without edges and 1 for a complete graph.\n",
    "\n",
    "\\begin{align}\n",
    "&\\begin{aligned}\n",
    "d = \\frac{m}{n(n-1)}\n",
    "\\end{aligned}\\\\\n",
    "&\\begin{aligned}\n",
    "m = \\text{# edges}\n",
    "\\end{aligned}\\\\\n",
    "&\\begin{aligned}\n",
    "n = \\text{# nodes}\n",
    "\\end{aligned}\n",
    "\\end{align}\n",
    "\n",
    "* *connected*: for each pairs of nodes exists a path that connects them.\n",
    "* *strongly connected components*: group of nodes for which for each pair of nodes exists a path that connects them. Can be broadly relatable to the concept of community.\n",
    "* *avg clustering*: average for each node of the fraction of possible triangles through that node that exist.\n",
    "* *assortativity*: measures how much nodes are likely to connect to nodes with the same degree (>0) or with a different degree (<0)."
   ]
  },
  {
   "cell_type": "code",
   "execution_count": 12,
   "metadata": {},
   "outputs": [
    {
     "data": {
      "image/png": "[encoded data removed]",
      "text/plain": [
       "<Figure size 1080x576 with 1 Axes>"
      ]
     },
     "metadata": {
      "needs_background": "light"
     },
     "output_type": "display_data"
    }
   ],
   "source": [
    "Analysis.plot_compare_cumsum_deg_dist(m)"
   ]
  },
  {
   "cell_type": "markdown",
   "metadata": {},
   "source": [
    "Cumulative sum of degree distribution shows how the degree is distributed with respect to the number of nodes.\n",
    "\n",
    "* Nodes with a lower degree (left on the plot) are typically way less than the ones with a high degree (right on the plot).\n",
    "\n",
    "* Over the dotted line there's a number of node above the mean (the converse below the line) as per z-score.\n",
    "\n",
    "* Z-score normalization for the number of nodes has been chosen because it preserves the range (maximum and minimum) and introduces the dispersion of the serie (standard deviation / variance)\n",
    "\n",
    "\\begin{align}\n",
    "P(k) = \\frac{\\text{# nodes with degree >= k}}{\\text{# nodes}}\n",
    "\\end{align}\n",
    "\n",
    "Cumulative sum of degree distribution is more robust wrt the simple degree distribution because is less subject to small numbers. "
   ]
  },
  {
   "cell_type": "markdown",
   "metadata": {},
   "source": [
    "### Communities\n",
    "Found communities per epsilon parameter."
   ]
  },
  {
   "cell_type": "code",
   "execution_count": 13,
   "metadata": {},
   "outputs": [
    {
     "name": "stdout",
     "output_type": "stream",
     "text": [
      "Communities found in kdd\n"
     ]
    },
    {
     "data": {
      "text/html": [
       "<div>\n",
       "<style scoped>\n",
       "    .dataframe tbody tr th:only-of-type {\n",
       "        vertical-align: middle;\n",
       "    }\n",
       "\n",
       "    .dataframe tbody tr th {\n",
       "        vertical-align: top;\n",
       "    }\n",
       "\n",
       "    .dataframe thead th {\n",
       "        text-align: right;\n",
       "    }\n",
       "</style>\n",
       "<table border=\"1\" class=\"dataframe\">\n",
       "  <thead>\n",
       "    <tr style=\"text-align: right;\">\n",
       "      <th></th>\n",
       "      <th>epsilon</th>\n",
       "      <th># communities</th>\n",
       "      <th># nodes</th>\n",
       "      <th># edges</th>\n",
       "    </tr>\n",
       "  </thead>\n",
       "  <tbody>\n",
       "    <tr>\n",
       "      <th>0</th>\n",
       "      <td>0.25</td>\n",
       "      <td>10</td>\n",
       "      <td>89</td>\n",
       "      <td>410</td>\n",
       "    </tr>\n",
       "    <tr>\n",
       "      <th>1</th>\n",
       "      <td>0.50</td>\n",
       "      <td>10</td>\n",
       "      <td>87</td>\n",
       "      <td>400</td>\n",
       "    </tr>\n",
       "  </tbody>\n",
       "</table>\n",
       "</div>"
      ],
      "text/plain": [
       "   epsilon  # communities  # nodes  # edges\n",
       "0     0.25             10       89      410\n",
       "1     0.50             10       87      400"
      ]
     },
     "metadata": {},
     "output_type": "execute_result"
    }
   ],
   "source": [
    "for data_fn, m_list in m.items():\n",
    "    print(f'Communities found in {data_fn}')\n",
    "    display(Analysis.number_of_communities(m_list))"
   ]
  },
  {
   "cell_type": "markdown",
   "metadata": {},
   "source": [
    "Network analysis per found communities"
   ]
  },
  {
   "cell_type": "code",
   "execution_count": 14,
   "metadata": {},
   "outputs": [
    {
     "name": "stdout",
     "output_type": "stream",
     "text": [
      "Metrics for kdd\n",
      "0.25\n"
     ]
    },
    {
     "data": {
      "text/plain": [
       "HBox(children=(IntProgress(value=0, max=10), HTML(value='')))"
      ]
     },
     "metadata": {},
     "output_type": "display_data"
    },
    {
     "name": "stdout",
     "output_type": "stream",
     "text": [
      "\n"
     ]
    },
    {
     "data": {
      "text/html": [
       "<div>\n",
       "<style scoped>\n",
       "    .dataframe tbody tr th:only-of-type {\n",
       "        vertical-align: middle;\n",
       "    }\n",
       "\n",
       "    .dataframe tbody tr th {\n",
       "        vertical-align: top;\n",
       "    }\n",
       "\n",
       "    .dataframe thead th {\n",
       "        text-align: right;\n",
       "    }\n",
       "</style>\n",
       "<table border=\"1\" class=\"dataframe\">\n",
       "  <thead>\n",
       "    <tr style=\"text-align: right;\">\n",
       "      <th></th>\n",
       "      <th># nodes</th>\n",
       "      <th># edges</th>\n",
       "      <th>avg degree</th>\n",
       "      <th>avg weighted degree</th>\n",
       "      <th>density</th>\n",
       "      <th>strongly conn components</th>\n",
       "      <th>avg clustering</th>\n",
       "      <th>assortativity</th>\n",
       "    </tr>\n",
       "  </thead>\n",
       "  <tbody>\n",
       "    <tr>\n",
       "      <th>count</th>\n",
       "      <td>10.00000</td>\n",
       "      <td>10.000000</td>\n",
       "      <td>10.000000</td>\n",
       "      <td>10.000000</td>\n",
       "      <td>10.000000</td>\n",
       "      <td>10.0</td>\n",
       "      <td>10.000000</td>\n",
       "      <td>10.000000</td>\n",
       "    </tr>\n",
       "    <tr>\n",
       "      <th>mean</th>\n",
       "      <td>10.00000</td>\n",
       "      <td>40.000000</td>\n",
       "      <td>7.730920</td>\n",
       "      <td>9.135310</td>\n",
       "      <td>0.576570</td>\n",
       "      <td>1.0</td>\n",
       "      <td>0.705620</td>\n",
       "      <td>-0.455310</td>\n",
       "    </tr>\n",
       "    <tr>\n",
       "      <th>std</th>\n",
       "      <td>6.97615</td>\n",
       "      <td>30.648545</td>\n",
       "      <td>1.103687</td>\n",
       "      <td>1.599650</td>\n",
       "      <td>0.224594</td>\n",
       "      <td>0.0</td>\n",
       "      <td>0.111196</td>\n",
       "      <td>0.160889</td>\n",
       "    </tr>\n",
       "    <tr>\n",
       "      <th>min</th>\n",
       "      <td>6.00000</td>\n",
       "      <td>18.000000</td>\n",
       "      <td>6.000000</td>\n",
       "      <td>7.333300</td>\n",
       "      <td>0.188300</td>\n",
       "      <td>1.0</td>\n",
       "      <td>0.549000</td>\n",
       "      <td>-0.751000</td>\n",
       "    </tr>\n",
       "    <tr>\n",
       "      <th>25%</th>\n",
       "      <td>6.00000</td>\n",
       "      <td>20.750000</td>\n",
       "      <td>6.916700</td>\n",
       "      <td>8.000000</td>\n",
       "      <td>0.541650</td>\n",
       "      <td>1.0</td>\n",
       "      <td>0.604750</td>\n",
       "      <td>-0.551575</td>\n",
       "    </tr>\n",
       "    <tr>\n",
       "      <th>50%</th>\n",
       "      <td>6.50000</td>\n",
       "      <td>26.500000</td>\n",
       "      <td>7.811700</td>\n",
       "      <td>8.376600</td>\n",
       "      <td>0.638100</td>\n",
       "      <td>1.0</td>\n",
       "      <td>0.738850</td>\n",
       "      <td>-0.456600</td>\n",
       "    </tr>\n",
       "    <tr>\n",
       "      <th>75%</th>\n",
       "      <td>9.25000</td>\n",
       "      <td>42.500000</td>\n",
       "      <td>8.571450</td>\n",
       "      <td>10.149975</td>\n",
       "      <td>0.684550</td>\n",
       "      <td>1.0</td>\n",
       "      <td>0.790275</td>\n",
       "      <td>-0.332700</td>\n",
       "    </tr>\n",
       "    <tr>\n",
       "      <th>max</th>\n",
       "      <td>24.00000</td>\n",
       "      <td>104.000000</td>\n",
       "      <td>9.400000</td>\n",
       "      <td>12.000000</td>\n",
       "      <td>0.866700</td>\n",
       "      <td>1.0</td>\n",
       "      <td>0.850000</td>\n",
       "      <td>-0.238300</td>\n",
       "    </tr>\n",
       "  </tbody>\n",
       "</table>\n",
       "</div>"
      ],
      "text/plain": [
       "        # nodes     # edges  avg degree  avg weighted degree    density  \\\n",
       "count  10.00000   10.000000   10.000000            10.000000  10.000000   \n",
       "mean   10.00000   40.000000    7.730920             9.135310   0.576570   \n",
       "std     6.97615   30.648545    1.103687             1.599650   0.224594   \n",
       "min     6.00000   18.000000    6.000000             7.333300   0.188300   \n",
       "25%     6.00000   20.750000    6.916700             8.000000   0.541650   \n",
       "50%     6.50000   26.500000    7.811700             8.376600   0.638100   \n",
       "75%     9.25000   42.500000    8.571450            10.149975   0.684550   \n",
       "max    24.00000  104.000000    9.400000            12.000000   0.866700   \n",
       "\n",
       "       strongly conn components  avg clustering  assortativity  \n",
       "count                      10.0       10.000000      10.000000  \n",
       "mean                        1.0        0.705620      -0.455310  \n",
       "std                         0.0        0.111196       0.160889  \n",
       "min                         1.0        0.549000      -0.751000  \n",
       "25%                         1.0        0.604750      -0.551575  \n",
       "50%                         1.0        0.738850      -0.456600  \n",
       "75%                         1.0        0.790275      -0.332700  \n",
       "max                         1.0        0.850000      -0.238300  "
      ]
     },
     "metadata": {},
     "output_type": "execute_result"
    },
    {
     "name": "stdout",
     "output_type": "stream",
     "text": [
      "0.5\n"
     ]
    },
    {
     "data": {
      "text/plain": [
       "HBox(children=(IntProgress(value=0, max=10), HTML(value='')))"
      ]
     },
     "metadata": {},
     "output_type": "display_data"
    },
    {
     "name": "stdout",
     "output_type": "stream",
     "text": [
      "\n"
     ]
    },
    {
     "data": {
      "text/html": [
       "<div>\n",
       "<style scoped>\n",
       "    .dataframe tbody tr th:only-of-type {\n",
       "        vertical-align: middle;\n",
       "    }\n",
       "\n",
       "    .dataframe tbody tr th {\n",
       "        vertical-align: top;\n",
       "    }\n",
       "\n",
       "    .dataframe thead th {\n",
       "        text-align: right;\n",
       "    }\n",
       "</style>\n",
       "<table border=\"1\" class=\"dataframe\">\n",
       "  <thead>\n",
       "    <tr style=\"text-align: right;\">\n",
       "      <th></th>\n",
       "      <th># nodes</th>\n",
       "      <th># edges</th>\n",
       "      <th>avg degree</th>\n",
       "      <th>avg weighted degree</th>\n",
       "      <th>density</th>\n",
       "      <th>strongly conn components</th>\n",
       "      <th>avg clustering</th>\n",
       "      <th>assortativity</th>\n",
       "    </tr>\n",
       "  </thead>\n",
       "  <tbody>\n",
       "    <tr>\n",
       "      <th>count</th>\n",
       "      <td>10.000000</td>\n",
       "      <td>10.000000</td>\n",
       "      <td>10.000000</td>\n",
       "      <td>10.000000</td>\n",
       "      <td>10.000000</td>\n",
       "      <td>10.0</td>\n",
       "      <td>10.000000</td>\n",
       "      <td>10.000000</td>\n",
       "    </tr>\n",
       "    <tr>\n",
       "      <th>mean</th>\n",
       "      <td>9.500000</td>\n",
       "      <td>37.900000</td>\n",
       "      <td>7.857200</td>\n",
       "      <td>9.311000</td>\n",
       "      <td>0.576240</td>\n",
       "      <td>1.0</td>\n",
       "      <td>0.694580</td>\n",
       "      <td>-0.454860</td>\n",
       "    </tr>\n",
       "    <tr>\n",
       "      <th>std</th>\n",
       "      <td>5.421152</td>\n",
       "      <td>22.683572</td>\n",
       "      <td>1.028693</td>\n",
       "      <td>1.471676</td>\n",
       "      <td>0.212082</td>\n",
       "      <td>0.0</td>\n",
       "      <td>0.119842</td>\n",
       "      <td>0.184512</td>\n",
       "    </tr>\n",
       "    <tr>\n",
       "      <th>min</th>\n",
       "      <td>6.000000</td>\n",
       "      <td>18.000000</td>\n",
       "      <td>6.000000</td>\n",
       "      <td>8.000000</td>\n",
       "      <td>0.207900</td>\n",
       "      <td>1.0</td>\n",
       "      <td>0.549000</td>\n",
       "      <td>-0.810800</td>\n",
       "    </tr>\n",
       "    <tr>\n",
       "      <th>25%</th>\n",
       "      <td>6.000000</td>\n",
       "      <td>23.750000</td>\n",
       "      <td>7.678600</td>\n",
       "      <td>8.000000</td>\n",
       "      <td>0.541650</td>\n",
       "      <td>1.0</td>\n",
       "      <td>0.596850</td>\n",
       "      <td>-0.486225</td>\n",
       "    </tr>\n",
       "    <tr>\n",
       "      <th>50%</th>\n",
       "      <td>7.000000</td>\n",
       "      <td>28.000000</td>\n",
       "      <td>8.002650</td>\n",
       "      <td>9.035700</td>\n",
       "      <td>0.620200</td>\n",
       "      <td>1.0</td>\n",
       "      <td>0.676150</td>\n",
       "      <td>-0.444000</td>\n",
       "    </tr>\n",
       "    <tr>\n",
       "      <th>75%</th>\n",
       "      <td>9.500000</td>\n",
       "      <td>43.750000</td>\n",
       "      <td>8.446425</td>\n",
       "      <td>9.978975</td>\n",
       "      <td>0.678600</td>\n",
       "      <td>1.0</td>\n",
       "      <td>0.812625</td>\n",
       "      <td>-0.322775</td>\n",
       "    </tr>\n",
       "    <tr>\n",
       "      <th>max</th>\n",
       "      <td>20.000000</td>\n",
       "      <td>79.000000</td>\n",
       "      <td>9.400000</td>\n",
       "      <td>12.000000</td>\n",
       "      <td>0.866700</td>\n",
       "      <td>1.0</td>\n",
       "      <td>0.850000</td>\n",
       "      <td>-0.238300</td>\n",
       "    </tr>\n",
       "  </tbody>\n",
       "</table>\n",
       "</div>"
      ],
      "text/plain": [
       "         # nodes    # edges  avg degree  avg weighted degree    density  \\\n",
       "count  10.000000  10.000000   10.000000            10.000000  10.000000   \n",
       "mean    9.500000  37.900000    7.857200             9.311000   0.576240   \n",
       "std     5.421152  22.683572    1.028693             1.471676   0.212082   \n",
       "min     6.000000  18.000000    6.000000             8.000000   0.207900   \n",
       "25%     6.000000  23.750000    7.678600             8.000000   0.541650   \n",
       "50%     7.000000  28.000000    8.002650             9.035700   0.620200   \n",
       "75%     9.500000  43.750000    8.446425             9.978975   0.678600   \n",
       "max    20.000000  79.000000    9.400000            12.000000   0.866700   \n",
       "\n",
       "       strongly conn components  avg clustering  assortativity  \n",
       "count                      10.0       10.000000      10.000000  \n",
       "mean                        1.0        0.694580      -0.454860  \n",
       "std                         0.0        0.119842       0.184512  \n",
       "min                         1.0        0.549000      -0.810800  \n",
       "25%                         1.0        0.596850      -0.486225  \n",
       "50%                         1.0        0.676150      -0.444000  \n",
       "75%                         1.0        0.812625      -0.322775  \n",
       "max                         1.0        0.850000      -0.238300  "
      ]
     },
     "metadata": {},
     "output_type": "execute_result"
    }
   ],
   "source": [
    "for data_fn, m_list in m.items():\n",
    "    print(f'Metrics for {data_fn}')\n",
    "    for e, m_element in m_list.items():\n",
    "        print(e)\n",
    "        display(Analysis.describe_communities(m_element).describe())"
   ]
  },
  {
   "cell_type": "markdown",
   "metadata": {},
   "source": [
    "Size of found communities"
   ]
  },
  {
   "cell_type": "code",
   "execution_count": 15,
   "metadata": {},
   "outputs": [
    {
     "name": "stdout",
     "output_type": "stream",
     "text": [
      "kdd\n"
     ]
    },
    {
     "data": {
      "image/png": "[encoded data removed]",
      "text/plain": [
       "<Figure size 720x432 with 1 Axes>"
      ]
     },
     "metadata": {
      "needs_background": "light"
     },
     "output_type": "display_data"
    },
    {
     "data": {
      "image/png": "[encoded data removed]",
      "text/plain": [
       "<Figure size 720x432 with 1 Axes>"
      ]
     },
     "metadata": {
      "needs_background": "light"
     },
     "output_type": "display_data"
    }
   ],
   "source": [
    "for data_fn, m_list in m.items():\n",
    "    print(data_fn)\n",
    "    for e, m_element in m_list.items():\n",
    "        Analysis.plot_community_size(m_element)"
   ]
  },
  {
   "cell_type": "markdown",
   "metadata": {},
   "source": [
    "### Communities quality parameters\n",
    "Survey of modularity measures: https://github.com/Lab41/survey-community-detection \n",
    "* *Internal density*: number of edges (ms) in subset S divided by the total number of possible edges between all nodes (ns(ns-1)/2). Higher the better\n",
    "* *Average degree*: average internal degree across all nodes (ns) in subset S. Higher the better.\n",
    "* *FOMD (Fraction over median degree)*: Determines the number of nodes that have an internal degree greater than the median degree of nodes in Subset S. Higher the better.\n",
    "* *Expansion*: can be thought as “External Degree”. Measure of separability. Lower the better.\n",
    "* *Cut Ratio*: This metric is a measure of separability and can be thought of as \"External Density\". Lower the better.\n",
    "* *Conductance*: Ratio of edges inside the cluster to the number of edges leaving the cluster (captures surface area to volume). Higher the better.\n",
    "* *Normalized Cut*: Represents how well subset S is separated from graph G. Combines Conductance with the fraction of external edges over all non-community edges. Higher the better.\n",
    "* *Maximum ODF (Out Degree Fraction)*: Fraction of external conections to internal connections for each node (ns) in S. It then returns the fraction with the highest value. Lower the better.\n",
    "* *Average ODF*: same as Maximum ODF but takes the average. Lower the better.\n",
    "* *Flake-ODF*: Fraction of the number of nodes that have fewer internal connections than external connections to the number of nodes (ns) in subset S. Higher the better.\n"
   ]
  },
  {
   "cell_type": "code",
   "execution_count": 16,
   "metadata": {},
   "outputs": [
    {
     "name": "stdout",
     "output_type": "stream",
     "text": [
      "Communities quality parameters found in kdd\n",
      "pquality for e=0.25\n"
     ]
    },
    {
     "data": {
      "text/html": [
       "<div>\n",
       "<style scoped>\n",
       "    .dataframe tbody tr th:only-of-type {\n",
       "        vertical-align: middle;\n",
       "    }\n",
       "\n",
       "    .dataframe tbody tr th {\n",
       "        vertical-align: top;\n",
       "    }\n",
       "\n",
       "    .dataframe thead th {\n",
       "        text-align: right;\n",
       "    }\n",
       "</style>\n",
       "<table border=\"1\" class=\"dataframe\">\n",
       "  <thead>\n",
       "    <tr style=\"text-align: right;\">\n",
       "      <th></th>\n",
       "      <th>min</th>\n",
       "      <th>max</th>\n",
       "      <th>avg</th>\n",
       "      <th>std</th>\n",
       "    </tr>\n",
       "    <tr>\n",
       "      <th>Index</th>\n",
       "      <th></th>\n",
       "      <th></th>\n",
       "      <th></th>\n",
       "      <th></th>\n",
       "    </tr>\n",
       "  </thead>\n",
       "  <tbody>\n",
       "    <tr>\n",
       "      <th>Normalized Cut</th>\n",
       "      <td>0.000000</td>\n",
       "      <td>0.369116</td>\n",
       "      <td>0.142879</td>\n",
       "      <td>0.111675</td>\n",
       "    </tr>\n",
       "    <tr>\n",
       "      <th>Edges inside</th>\n",
       "      <td>0.094156</td>\n",
       "      <td>0.433333</td>\n",
       "      <td>0.288280</td>\n",
       "      <td>0.106527</td>\n",
       "    </tr>\n",
       "    <tr>\n",
       "      <th>Average Degree</th>\n",
       "      <td>6.000000</td>\n",
       "      <td>9.400000</td>\n",
       "      <td>7.730909</td>\n",
       "      <td>1.047043</td>\n",
       "    </tr>\n",
       "    <tr>\n",
       "      <th>FOMD</th>\n",
       "      <td>0.166667</td>\n",
       "      <td>0.500000</td>\n",
       "      <td>0.403247</td>\n",
       "      <td>0.113734</td>\n",
       "    </tr>\n",
       "    <tr>\n",
       "      <th>Expansion</th>\n",
       "      <td>0.000000</td>\n",
       "      <td>3.166667</td>\n",
       "      <td>1.194145</td>\n",
       "      <td>0.998518</td>\n",
       "    </tr>\n",
       "    <tr>\n",
       "      <th>Cut Ratio</th>\n",
       "      <td>0.000000</td>\n",
       "      <td>0.038153</td>\n",
       "      <td>0.014743</td>\n",
       "      <td>0.011854</td>\n",
       "    </tr>\n",
       "    <tr>\n",
       "      <th>Edges inside</th>\n",
       "      <td>18.000000</td>\n",
       "      <td>104.000000</td>\n",
       "      <td>40.000000</td>\n",
       "      <td>29.075763</td>\n",
       "    </tr>\n",
       "    <tr>\n",
       "      <th>Conductance</th>\n",
       "      <td>0.000000</td>\n",
       "      <td>0.345455</td>\n",
       "      <td>0.130538</td>\n",
       "      <td>0.105997</td>\n",
       "    </tr>\n",
       "    <tr>\n",
       "      <th>Maximum-ODF</th>\n",
       "      <td>0.000000</td>\n",
       "      <td>20.000000</td>\n",
       "      <td>10.200000</td>\n",
       "      <td>6.660330</td>\n",
       "    </tr>\n",
       "    <tr>\n",
       "      <th>Average-ODF</th>\n",
       "      <td>0.000000</td>\n",
       "      <td>6.333333</td>\n",
       "      <td>2.388290</td>\n",
       "      <td>1.997035</td>\n",
       "    </tr>\n",
       "    <tr>\n",
       "      <th>Flake-ODF</th>\n",
       "      <td>0.000000</td>\n",
       "      <td>0.333333</td>\n",
       "      <td>0.103950</td>\n",
       "      <td>0.120019</td>\n",
       "    </tr>\n",
       "  </tbody>\n",
       "</table>\n",
       "</div>"
      ],
      "text/plain": [
       "                      min         max        avg        std\n",
       "Index                                                      \n",
       "Normalized Cut   0.000000    0.369116   0.142879   0.111675\n",
       "Edges inside     0.094156    0.433333   0.288280   0.106527\n",
       "Average Degree   6.000000    9.400000   7.730909   1.047043\n",
       "FOMD             0.166667    0.500000   0.403247   0.113734\n",
       "Expansion        0.000000    3.166667   1.194145   0.998518\n",
       "Cut Ratio        0.000000    0.038153   0.014743   0.011854\n",
       "Edges inside    18.000000  104.000000  40.000000  29.075763\n",
       "Conductance      0.000000    0.345455   0.130538   0.105997\n",
       "Maximum-ODF      0.000000   20.000000  10.200000   6.660330\n",
       "Average-ODF      0.000000    6.333333   2.388290   1.997035\n",
       "Flake-ODF        0.000000    0.333333   0.103950   0.120019"
      ]
     },
     "metadata": {},
     "output_type": "execute_result"
    },
    {
     "name": "stdout",
     "output_type": "stream",
     "text": [
      "pquality for e=0.5\n"
     ]
    },
    {
     "data": {
      "text/html": [
       "<div>\n",
       "<style scoped>\n",
       "    .dataframe tbody tr th:only-of-type {\n",
       "        vertical-align: middle;\n",
       "    }\n",
       "\n",
       "    .dataframe tbody tr th {\n",
       "        vertical-align: top;\n",
       "    }\n",
       "\n",
       "    .dataframe thead th {\n",
       "        text-align: right;\n",
       "    }\n",
       "</style>\n",
       "<table border=\"1\" class=\"dataframe\">\n",
       "  <thead>\n",
       "    <tr style=\"text-align: right;\">\n",
       "      <th></th>\n",
       "      <th>min</th>\n",
       "      <th>max</th>\n",
       "      <th>avg</th>\n",
       "      <th>std</th>\n",
       "    </tr>\n",
       "    <tr>\n",
       "      <th>Index</th>\n",
       "      <th></th>\n",
       "      <th></th>\n",
       "      <th></th>\n",
       "      <th></th>\n",
       "    </tr>\n",
       "  </thead>\n",
       "  <tbody>\n",
       "    <tr>\n",
       "      <th>Normalized Cut</th>\n",
       "      <td>0.000000</td>\n",
       "      <td>0.369720</td>\n",
       "      <td>0.147295</td>\n",
       "      <td>0.110609</td>\n",
       "    </tr>\n",
       "    <tr>\n",
       "      <th>Edges inside</th>\n",
       "      <td>0.103947</td>\n",
       "      <td>0.433333</td>\n",
       "      <td>0.288120</td>\n",
       "      <td>0.100591</td>\n",
       "    </tr>\n",
       "    <tr>\n",
       "      <th>Average Degree</th>\n",
       "      <td>6.000000</td>\n",
       "      <td>9.400000</td>\n",
       "      <td>7.857193</td>\n",
       "      <td>0.975897</td>\n",
       "    </tr>\n",
       "    <tr>\n",
       "      <th>FOMD</th>\n",
       "      <td>0.166667</td>\n",
       "      <td>0.500000</td>\n",
       "      <td>0.383008</td>\n",
       "      <td>0.112681</td>\n",
       "    </tr>\n",
       "    <tr>\n",
       "      <th>Expansion</th>\n",
       "      <td>0.000000</td>\n",
       "      <td>3.166667</td>\n",
       "      <td>1.269568</td>\n",
       "      <td>1.025940</td>\n",
       "    </tr>\n",
       "    <tr>\n",
       "      <th>Cut Ratio</th>\n",
       "      <td>0.000000</td>\n",
       "      <td>0.039095</td>\n",
       "      <td>0.016139</td>\n",
       "      <td>0.012603</td>\n",
       "    </tr>\n",
       "    <tr>\n",
       "      <th>Edges inside</th>\n",
       "      <td>18.000000</td>\n",
       "      <td>79.000000</td>\n",
       "      <td>37.900000</td>\n",
       "      <td>21.519526</td>\n",
       "    </tr>\n",
       "    <tr>\n",
       "      <th>Conductance</th>\n",
       "      <td>0.000000</td>\n",
       "      <td>0.345455</td>\n",
       "      <td>0.133232</td>\n",
       "      <td>0.103491</td>\n",
       "    </tr>\n",
       "    <tr>\n",
       "      <th>Maximum-ODF</th>\n",
       "      <td>0.000000</td>\n",
       "      <td>28.000000</td>\n",
       "      <td>11.800000</td>\n",
       "      <td>8.553362</td>\n",
       "    </tr>\n",
       "    <tr>\n",
       "      <th>Average-ODF</th>\n",
       "      <td>0.000000</td>\n",
       "      <td>6.333333</td>\n",
       "      <td>2.539135</td>\n",
       "      <td>2.051881</td>\n",
       "    </tr>\n",
       "    <tr>\n",
       "      <th>Flake-ODF</th>\n",
       "      <td>0.000000</td>\n",
       "      <td>0.333333</td>\n",
       "      <td>0.106598</td>\n",
       "      <td>0.116660</td>\n",
       "    </tr>\n",
       "  </tbody>\n",
       "</table>\n",
       "</div>"
      ],
      "text/plain": [
       "                      min        max        avg        std\n",
       "Index                                                     \n",
       "Normalized Cut   0.000000   0.369720   0.147295   0.110609\n",
       "Edges inside     0.103947   0.433333   0.288120   0.100591\n",
       "Average Degree   6.000000   9.400000   7.857193   0.975897\n",
       "FOMD             0.166667   0.500000   0.383008   0.112681\n",
       "Expansion        0.000000   3.166667   1.269568   1.025940\n",
       "Cut Ratio        0.000000   0.039095   0.016139   0.012603\n",
       "Edges inside    18.000000  79.000000  37.900000  21.519526\n",
       "Conductance      0.000000   0.345455   0.133232   0.103491\n",
       "Maximum-ODF      0.000000  28.000000  11.800000   8.553362\n",
       "Average-ODF      0.000000   6.333333   2.539135   2.051881\n",
       "Flake-ODF        0.000000   0.333333   0.106598   0.116660"
      ]
     },
     "metadata": {},
     "output_type": "execute_result"
    }
   ],
   "source": [
    "for data_fn, m_list in m.items():\n",
    "    print(f'Communities quality parameters found in {data_fn}')\n",
    "    for e, pq in Analysis.pquality(m_list):\n",
    "        print(f'pquality for e={e}')\n",
    "        display(pq)"
   ]
  },
  {
   "cell_type": "markdown",
   "metadata": {},
   "source": [
    "### Similarities\n",
    "Detect similarities between communities of the same partition.\n",
    "1. get the top 10 nodes in each community wrt the given metric (\"indegree\" in this case)\n",
    "2. apply Kendall-Tau given a pair of top 10 ranked communities\n",
    "\n",
    "Metrics:\n",
    "* *Kendall Tau*: it takes values between ±1, with a positive correlation indicating that the ranks of\n",
    "both variables increase together whilst a negative correlation indicates that as the rank of one variable increases the other one decreases.\n",
    "\n",
    "  source: [2001 Blackwell Science Ltd, Journal of Clinical Nursing](http://www.blackwellpublishing.com/specialarticles/jcn_10_715.pdf)\n",
    "\n",
    "\\begin{align}\n",
    "\\tau = \\frac{(\\text{# of concordant pairs}) - (\\text{# of disconcordant pairs})}\n",
    "{N \\cdot (N-1)/2}\n",
    "\\end{align}\n",
    "\n",
    " * *Indegree*: number of edges entering a node in a direct graph.\n",
    "\n",
    "* *H-Index*: According to the definition of h-index on Wikipedia:\n",
    "\"A scientist has index h if h of his/her N papers have at least h citations each, and the other N − h papers have no more than h citations each.\"\n",
    "For example, given citations = [3, 0, 6, 1, 5], which means the researcher has 5 papers in total and each of them had received 3, 0, 6, 1, 5 citations respectively.\n",
    "Since the researcher has 3 papers with at least 3 citations each and the remaining two with no more than 3 citations each, his h-index is 3.\n",
    "\n",
    "  Note: If there are several possible values for h, the maximum one is taken as the h-index.\n",
    "\n",
    "  source: [Leetcode's Github](https://github.com/kamyu104/LeetCode/blob/master/Python/h-index.py)"
   ]
  },
  {
   "cell_type": "markdown",
   "metadata": {},
   "source": [
    "#### Similarities between SAME epsilon settings\n",
    "Find similarities between communities of the same partition settings (since we are using overlapping commmunities detection)."
   ]
  },
  {
   "cell_type": "code",
   "execution_count": 17,
   "metadata": {
    "scrolled": false
   },
   "outputs": [
    {
     "name": "stdout",
     "output_type": "stream",
     "text": [
      "heatmaps for dataset kdd\n"
     ]
    },
    {
     "name": "stderr",
     "output_type": "stream",
     "text": [
      "/home/flaprimo/Development/Workspaces/ZikaProject/Python/twitter-network-analysis/venv/lib/python3.6/site-packages/scipy/stats/stats.py:245: RuntimeWarning: The input array could not be properly checked for nan values. nan values will be ignored.\n",
      "  \"values. nan values will be ignored.\", RuntimeWarning)\n"
     ]
    },
    {
     "data": {
      "image/png": "[encoded data removed]",
      "text/plain": [
       "<Figure size 1080x1080 with 1 Axes>"
      ]
     },
     "metadata": {
      "needs_background": "light"
     },
     "output_type": "display_data"
    },
    {
     "data": {
      "image/png": "[encoded data removed]",
      "text/plain": [
       "<Figure size 1080x1080 with 1 Axes>"
      ]
     },
     "metadata": {
      "needs_background": "light"
     },
     "output_type": "display_data"
    }
   ],
   "source": [
    "for data_fn, m_list in m.items():\n",
    "    print(f'heatmaps for dataset {data_fn}')\n",
    "    Analysis.communities_top_users_heatmap(m_list, metric_name, e_pairs, triangular=True)"
   ]
  },
  {
   "cell_type": "code",
   "execution_count": 18,
   "metadata": {},
   "outputs": [
    {
     "name": "stdout",
     "output_type": "stream",
     "text": [
      "rankings for dataset kdd\n"
     ]
    },
    {
     "name": "stderr",
     "output_type": "stream",
     "text": [
      "/home/flaprimo/Development/Workspaces/ZikaProject/Python/twitter-network-analysis/venv/lib/python3.6/site-packages/scipy/stats/stats.py:245: RuntimeWarning: The input array could not be properly checked for nan values. nan values will be ignored.\n",
      "  \"values. nan values will be ignored.\", RuntimeWarning)\n"
     ]
    },
    {
     "data": {
      "text/html": [
       "<div>\n",
       "<style scoped>\n",
       "    .dataframe tbody tr th:only-of-type {\n",
       "        vertical-align: middle;\n",
       "    }\n",
       "\n",
       "    .dataframe tbody tr th {\n",
       "        vertical-align: top;\n",
       "    }\n",
       "\n",
       "    .dataframe thead th {\n",
       "        text-align: right;\n",
       "    }\n",
       "</style>\n",
       "<table border=\"1\" class=\"dataframe\">\n",
       "  <thead>\n",
       "    <tr style=\"text-align: right;\">\n",
       "      <th></th>\n",
       "      <th>p1_e0.25</th>\n",
       "      <th>p2_e0.25</th>\n",
       "      <th>indegree</th>\n",
       "    </tr>\n",
       "  </thead>\n",
       "  <tbody>\n",
       "    <tr>\n",
       "      <th>0</th>\n",
       "      <td>C_3</td>\n",
       "      <td>C_9</td>\n",
       "      <td>0.73</td>\n",
       "    </tr>\n",
       "    <tr>\n",
       "      <th>1</th>\n",
       "      <td>C_3</td>\n",
       "      <td>C_8</td>\n",
       "      <td>0.73</td>\n",
       "    </tr>\n",
       "    <tr>\n",
       "      <th>2</th>\n",
       "      <td>C_1</td>\n",
       "      <td>C_2</td>\n",
       "      <td>0.73</td>\n",
       "    </tr>\n",
       "    <tr>\n",
       "      <th>3</th>\n",
       "      <td>C_0</td>\n",
       "      <td>C_4</td>\n",
       "      <td>0.62</td>\n",
       "    </tr>\n",
       "    <tr>\n",
       "      <th>4</th>\n",
       "      <td>C_0</td>\n",
       "      <td>C_1</td>\n",
       "      <td>0.60</td>\n",
       "    </tr>\n",
       "  </tbody>\n",
       "</table>\n",
       "</div>"
      ],
      "text/plain": [
       "  p1_e0.25 p2_e0.25  indegree\n",
       "0      C_3      C_9      0.73\n",
       "1      C_3      C_8      0.73\n",
       "2      C_1      C_2      0.73\n",
       "3      C_0      C_4      0.62\n",
       "4      C_0      C_1      0.60"
      ]
     },
     "metadata": {},
     "output_type": "execute_result"
    },
    {
     "data": {
      "text/html": [
       "<div>\n",
       "<style scoped>\n",
       "    .dataframe tbody tr th:only-of-type {\n",
       "        vertical-align: middle;\n",
       "    }\n",
       "\n",
       "    .dataframe tbody tr th {\n",
       "        vertical-align: top;\n",
       "    }\n",
       "\n",
       "    .dataframe thead th {\n",
       "        text-align: right;\n",
       "    }\n",
       "</style>\n",
       "<table border=\"1\" class=\"dataframe\">\n",
       "  <thead>\n",
       "    <tr style=\"text-align: right;\">\n",
       "      <th></th>\n",
       "      <th>p1_e0.5</th>\n",
       "      <th>p2_e0.5</th>\n",
       "      <th>indegree</th>\n",
       "    </tr>\n",
       "  </thead>\n",
       "  <tbody>\n",
       "    <tr>\n",
       "      <th>0</th>\n",
       "      <td>C_5</td>\n",
       "      <td>C_8</td>\n",
       "      <td>0.73</td>\n",
       "    </tr>\n",
       "    <tr>\n",
       "      <th>1</th>\n",
       "      <td>C_3</td>\n",
       "      <td>C_9</td>\n",
       "      <td>0.73</td>\n",
       "    </tr>\n",
       "    <tr>\n",
       "      <th>2</th>\n",
       "      <td>C_3</td>\n",
       "      <td>C_8</td>\n",
       "      <td>0.73</td>\n",
       "    </tr>\n",
       "    <tr>\n",
       "      <th>3</th>\n",
       "      <td>C_1</td>\n",
       "      <td>C_2</td>\n",
       "      <td>0.73</td>\n",
       "    </tr>\n",
       "  </tbody>\n",
       "</table>\n",
       "</div>"
      ],
      "text/plain": [
       "  p1_e0.5 p2_e0.5  indegree\n",
       "0     C_5     C_8      0.73\n",
       "1     C_3     C_9      0.73\n",
       "2     C_3     C_8      0.73\n",
       "3     C_1     C_2      0.73"
      ]
     },
     "metadata": {},
     "output_type": "execute_result"
    }
   ],
   "source": [
    "for data_fn, m_list in m.items():\n",
    "    print(f'rankings for dataset {data_fn}')\n",
    "    r_list = Analysis.communities_top_users_rank(m_list, metric_name, e_pairs, threshold=0.6)\n",
    "    for r in r_list:\n",
    "        display(r.round(2))"
   ]
  },
  {
   "cell_type": "markdown",
   "metadata": {},
   "source": [
    "#### Similarities between DIFFERENT epsilon settings\n",
    "Epsilon parameter defines the likeliness of creating new communities.\n",
    "\n",
    "Thus the most important partitions will likely \"survive\" with different epsilon settings.\n",
    "\n",
    "Since we are comparing different partitions the heatmap is not triangular as before."
   ]
  },
  {
   "cell_type": "code",
   "execution_count": 19,
   "metadata": {},
   "outputs": [
    {
     "name": "stdout",
     "output_type": "stream",
     "text": [
      "heatmaps for dataset kdd\n"
     ]
    },
    {
     "name": "stderr",
     "output_type": "stream",
     "text": [
      "/home/flaprimo/Development/Workspaces/ZikaProject/Python/twitter-network-analysis/venv/lib/python3.6/site-packages/scipy/stats/stats.py:245: RuntimeWarning: The input array could not be properly checked for nan values. nan values will be ignored.\n",
      "  \"values. nan values will be ignored.\", RuntimeWarning)\n"
     ]
    },
    {
     "data": {
      "image/png": "[encoded data removed]",
      "text/plain": [
       "<Figure size 1080x1080 with 1 Axes>"
      ]
     },
     "metadata": {
      "needs_background": "light"
     },
     "output_type": "display_data"
    }
   ],
   "source": [
    "for data_fn, m_list in m.items():\n",
    "    print(f'heatmaps for dataset {data_fn}')\n",
    "    Analysis.communities_top_users_heatmap(m_list, metric_name, e_pairwise_combs)"
   ]
  },
  {
   "cell_type": "code",
   "execution_count": 20,
   "metadata": {},
   "outputs": [
    {
     "name": "stdout",
     "output_type": "stream",
     "text": [
      "rankings for dataset kdd\n"
     ]
    },
    {
     "name": "stderr",
     "output_type": "stream",
     "text": [
      "/home/flaprimo/Development/Workspaces/ZikaProject/Python/twitter-network-analysis/venv/lib/python3.6/site-packages/scipy/stats/stats.py:245: RuntimeWarning: The input array could not be properly checked for nan values. nan values will be ignored.\n",
      "  \"values. nan values will be ignored.\", RuntimeWarning)\n"
     ]
    },
    {
     "data": {
      "text/html": [
       "<div>\n",
       "<style scoped>\n",
       "    .dataframe tbody tr th:only-of-type {\n",
       "        vertical-align: middle;\n",
       "    }\n",
       "\n",
       "    .dataframe tbody tr th {\n",
       "        vertical-align: top;\n",
       "    }\n",
       "\n",
       "    .dataframe thead th {\n",
       "        text-align: right;\n",
       "    }\n",
       "</style>\n",
       "<table border=\"1\" class=\"dataframe\">\n",
       "  <thead>\n",
       "    <tr style=\"text-align: right;\">\n",
       "      <th></th>\n",
       "      <th>p1_e0.5</th>\n",
       "      <th>p2_e0.25</th>\n",
       "      <th>indegree</th>\n",
       "    </tr>\n",
       "  </thead>\n",
       "  <tbody>\n",
       "    <tr>\n",
       "      <th>0</th>\n",
       "      <td>C_3</td>\n",
       "      <td>C_9</td>\n",
       "      <td>0.73</td>\n",
       "    </tr>\n",
       "    <tr>\n",
       "      <th>1</th>\n",
       "      <td>C_3</td>\n",
       "      <td>C_8</td>\n",
       "      <td>0.73</td>\n",
       "    </tr>\n",
       "    <tr>\n",
       "      <th>2</th>\n",
       "      <td>C_1</td>\n",
       "      <td>C_2</td>\n",
       "      <td>0.73</td>\n",
       "    </tr>\n",
       "  </tbody>\n",
       "</table>\n",
       "</div>"
      ],
      "text/plain": [
       "  p1_e0.5 p2_e0.25  indegree\n",
       "0     C_3      C_9      0.73\n",
       "1     C_3      C_8      0.73\n",
       "2     C_1      C_2      0.73"
      ]
     },
     "metadata": {},
     "output_type": "execute_result"
    }
   ],
   "source": [
    "for data_fn in data_filenames:\n",
    "    print(f'rankings for dataset {data_fn}')\n",
    "    r_list = Analysis.communities_top_users_rank(m[data_fn], metric_name, e_pairwise_combs, threshold=0.6)\n",
    "    for r in r_list:\n",
    "        display(r.round(2))"
   ]
  },
  {
   "cell_type": "markdown",
   "metadata": {},
   "source": [
    "## Comparisons\n",
    "Compare DEMON community results with other community detection algorithms."
   ]
  },
  {
   "cell_type": "markdown",
   "metadata": {},
   "source": [
    "Find similarities between partitions found by different community detection algorithms with a heatmap and then list the most correlated communities."
   ]
  },
  {
   "cell_type": "code",
   "execution_count": 21,
   "metadata": {},
   "outputs": [
    {
     "name": "stdout",
     "output_type": "stream",
     "text": [
      "heatmaps for dataset kdd\n"
     ]
    },
    {
     "name": "stderr",
     "output_type": "stream",
     "text": [
      "/home/flaprimo/Development/Workspaces/ZikaProject/Python/twitter-network-analysis/venv/lib/python3.6/site-packages/scipy/stats/stats.py:245: RuntimeWarning: The input array could not be properly checked for nan values. nan values will be ignored.\n",
      "  \"values. nan values will be ignored.\", RuntimeWarning)\n"
     ]
    },
    {
     "data": {
      "image/png": "[encoded data removed]",
      "text/plain": [
       "<Figure size 1080x1080 with 1 Axes>"
      ]
     },
     "metadata": {
      "needs_background": "light"
     },
     "output_type": "display_data"
    },
    {
     "data": {
      "image/png": "[encoded data removed]",
      "text/plain": [
       "<Figure size 1080x1080 with 1 Axes>"
      ]
     },
     "metadata": {
      "needs_background": "light"
     },
     "output_type": "display_data"
    }
   ],
   "source": [
    "for data_fn, m_list in m.items():\n",
    "    print(f'heatmaps for dataset {data_fn}')\n",
    "    c = Comparisons.get_comparison_top_community(m_list[epsilon[0]])\n",
    "    Comparisons.communities_top_users_heatmap(m_list, c, metric_name)"
   ]
  },
  {
   "cell_type": "code",
   "execution_count": 22,
   "metadata": {},
   "outputs": [
    {
     "name": "stdout",
     "output_type": "stream",
     "text": [
      "rankings for dataset kdd\n"
     ]
    },
    {
     "name": "stderr",
     "output_type": "stream",
     "text": [
      "/home/flaprimo/Development/Workspaces/ZikaProject/Python/twitter-network-analysis/venv/lib/python3.6/site-packages/scipy/stats/stats.py:245: RuntimeWarning: The input array could not be properly checked for nan values. nan values will be ignored.\n",
      "  \"values. nan values will be ignored.\", RuntimeWarning)\n"
     ]
    },
    {
     "data": {
      "text/html": [
       "<div>\n",
       "<style scoped>\n",
       "    .dataframe tbody tr th:only-of-type {\n",
       "        vertical-align: middle;\n",
       "    }\n",
       "\n",
       "    .dataframe tbody tr th {\n",
       "        vertical-align: top;\n",
       "    }\n",
       "\n",
       "    .dataframe thead th {\n",
       "        text-align: right;\n",
       "    }\n",
       "</style>\n",
       "<table border=\"1\" class=\"dataframe\">\n",
       "  <thead>\n",
       "    <tr style=\"text-align: right;\">\n",
       "      <th></th>\n",
       "      <th>DEMON e=0.25</th>\n",
       "      <th>other algorithm</th>\n",
       "      <th>indegree</th>\n",
       "    </tr>\n",
       "  </thead>\n",
       "  <tbody>\n",
       "    <tr>\n",
       "      <th>0</th>\n",
       "      <td>C_2</td>\n",
       "      <td>C_9</td>\n",
       "      <td>0.61</td>\n",
       "    </tr>\n",
       "  </tbody>\n",
       "</table>\n",
       "</div>"
      ],
      "text/plain": [
       "  DEMON e=0.25 other algorithm  indegree\n",
       "0          C_2             C_9      0.61"
      ]
     },
     "metadata": {},
     "output_type": "execute_result"
    },
    {
     "data": {
      "text/html": [
       "<div>\n",
       "<style scoped>\n",
       "    .dataframe tbody tr th:only-of-type {\n",
       "        vertical-align: middle;\n",
       "    }\n",
       "\n",
       "    .dataframe tbody tr th {\n",
       "        vertical-align: top;\n",
       "    }\n",
       "\n",
       "    .dataframe thead th {\n",
       "        text-align: right;\n",
       "    }\n",
       "</style>\n",
       "<table border=\"1\" class=\"dataframe\">\n",
       "  <thead>\n",
       "    <tr style=\"text-align: right;\">\n",
       "      <th></th>\n",
       "      <th>DEMON e=0.5</th>\n",
       "      <th>other algorithm</th>\n",
       "      <th>indegree</th>\n",
       "    </tr>\n",
       "  </thead>\n",
       "  <tbody>\n",
       "    <tr>\n",
       "      <th>0</th>\n",
       "      <td>C_1</td>\n",
       "      <td>C_3</td>\n",
       "      <td>1.00</td>\n",
       "    </tr>\n",
       "    <tr>\n",
       "      <th>1</th>\n",
       "      <td>C_2</td>\n",
       "      <td>C_9</td>\n",
       "      <td>0.61</td>\n",
       "    </tr>\n",
       "    <tr>\n",
       "      <th>2</th>\n",
       "      <td>C_2</td>\n",
       "      <td>C_3</td>\n",
       "      <td>0.60</td>\n",
       "    </tr>\n",
       "  </tbody>\n",
       "</table>\n",
       "</div>"
      ],
      "text/plain": [
       "  DEMON e=0.5 other algorithm  indegree\n",
       "0         C_1             C_3      1.00\n",
       "1         C_2             C_9      0.61\n",
       "2         C_2             C_3      0.60"
      ]
     },
     "metadata": {},
     "output_type": "execute_result"
    }
   ],
   "source": [
    "for data_fn, m_list in m.items():\n",
    "    print(f'rankings for dataset {data_fn}')\n",
    "    c = Comparisons.get_comparison_top_community(m_list[epsilon[0]])\n",
    "    r_list = Comparisons.communities_top_users_rank(m_list, c, metric_name, 0.6)\n",
    "    for r in r_list:\n",
    "        display(r.round(2))"
   ]
  },
  {
   "cell_type": "code",
   "execution_count": null,
   "metadata": {},
   "outputs": [],
   "source": []
  }
 ],
 "metadata": {
  "kernelspec": {
   "display_name": "Python 3",
   "language": "python",
   "name": "python3"
  },
  "language_info": {
   "codemirror_mode": {
    "name": "ipython",
    "version": 3
   },
   "file_extension": ".py",
   "mimetype": "text/x-python",
   "name": "python",
   "nbconvert_exporter": "python",
   "pygments_lexer": "ipython3",
   "version": "3.6.5"
  }
 },
 "nbformat": 4,
 "nbformat_minor": 1
}
