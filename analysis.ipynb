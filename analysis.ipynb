{
 "cells": [
  {
   "cell_type": "markdown",
   "metadata": {},
   "source": [
    "# Twitter datasets analysis"
   ]
  },
  {
   "cell_type": "markdown",
   "metadata": {},
   "source": [
    "## Imports and configs"
   ]
  },
  {
   "cell_type": "code",
   "execution_count": 1,
   "metadata": {},
   "outputs": [],
   "source": [
    "%load_ext autoreload\n",
    "%autoreload 2\n",
    "%matplotlib inline\n",
    "\n",
    "import logging\n",
    "import matplotlib.pyplot as plt\n",
    "import seaborn as sns\n",
    "\n",
    "import helper\n",
    "from config import Config\n",
    "from stages import PreProcessing, CommunityDetection, Metrics, Analysis, Comparisons\n",
    "\n",
    "logging.basicConfig(filename='logs/debug.log', filemode='w', level=logging.DEBUG,\n",
    "                    format='%(levelname)s - %(name)s - %(message)s')"
   ]
  },
  {
   "cell_type": "markdown",
   "metadata": {},
   "source": [
    "DEMON parameters:\n",
    "* *epsilon*: the tolerance required in order to merge communities\n",
    "* *min_community_size*: minimum number of nodes needed to form a community"
   ]
  },
  {
   "cell_type": "code",
   "execution_count": 2,
   "metadata": {},
   "outputs": [],
   "source": [
    "data_filenames = ['ll', 'kdd', 'pr']\n",
    "epsilon = [0.25, 0.5]\n",
    "min_community_size = 3\n",
    "\n",
    "configs = {}\n",
    "for data_fn in data_filenames:\n",
    "    configs[data_fn] = []\n",
    "    for e in epsilon:\n",
    "        config = Config(\n",
    "            data_filename=data_fn,\n",
    "            demon={\n",
    "                'epsilon': e,\n",
    "                'min_community_size': min_community_size\n",
    "            })\n",
    "        configs[data_fn].append(config)"
   ]
  },
  {
   "cell_type": "markdown",
   "metadata": {},
   "source": [
    "## Stages"
   ]
  },
  {
   "cell_type": "markdown",
   "metadata": {},
   "source": [
    "### 1. Pre Processing"
   ]
  },
  {
   "cell_type": "code",
   "execution_count": 3,
   "metadata": {},
   "outputs": [],
   "source": [
    "for data_fn, config in configs.items():\n",
    "    pp = PreProcessing(config[0]) # only once per dataset, same for all the cd parameters\n",
    "    pp.execute()\n",
    "    pp.save()"
   ]
  },
  {
   "cell_type": "markdown",
   "metadata": {},
   "source": [
    "### 2. Community Detection"
   ]
  },
  {
   "cell_type": "code",
   "execution_count": 4,
   "metadata": {},
   "outputs": [],
   "source": [
    "for data_fn, config in configs.items():\n",
    "    for c in config:\n",
    "        cd = CommunityDetection(c)\n",
    "        cd.execute()\n",
    "        cd.save()"
   ]
  },
  {
   "cell_type": "markdown",
   "metadata": {},
   "source": [
    "### 3. Metrics"
   ]
  },
  {
   "cell_type": "code",
   "execution_count": null,
   "metadata": {},
   "outputs": [
    {
     "name": "stdout",
     "output_type": "stream",
     "text": [
      "ll\n",
      "get community subgraphs for e:0.25 mcs:3\n"
     ]
    },
    {
     "data": {
      "application/vnd.jupyter.widget-view+json": {
       "model_id": "d3dfbd0dc5cf4d7fbf1cb0e08a6f294b",
       "version_major": 2,
       "version_minor": 0
      },
      "text/plain": [
       "HBox(children=(IntProgress(value=0, max=11), HTML(value='')))"
      ]
     },
     "metadata": {},
     "output_type": "display_data"
    },
    {
     "name": "stdout",
     "output_type": "stream",
     "text": [
      "get pquality for e:0.25 mcs:3\n"
     ]
    },
    {
     "data": {
      "application/vnd.jupyter.widget-view+json": {
       "model_id": "76a748419ff6428f8344db046b05bb59",
       "version_major": 2,
       "version_minor": 0
      },
      "text/plain": [
       "HBox(children=(IntProgress(value=0, max=11), HTML(value='')))"
      ]
     },
     "metadata": {},
     "output_type": "display_data"
    },
    {
     "name": "stdout",
     "output_type": "stream",
     "text": [
      "get community subgraphs for e:0.5 mcs:3\n"
     ]
    },
    {
     "data": {
      "application/vnd.jupyter.widget-view+json": {
       "model_id": "87cd5c8225ad45cf87c4afeb4e4a6850",
       "version_major": 2,
       "version_minor": 0
      },
      "text/plain": [
       "HBox(children=(IntProgress(value=0, max=22), HTML(value='')))"
      ]
     },
     "metadata": {},
     "output_type": "display_data"
    },
    {
     "name": "stdout",
     "output_type": "stream",
     "text": [
      "get pquality for e:0.5 mcs:3\n"
     ]
    },
    {
     "data": {
      "application/vnd.jupyter.widget-view+json": {
       "model_id": "48b4214ab0f44e02840528252cb1fc87",
       "version_major": 2,
       "version_minor": 0
      },
      "text/plain": [
       "HBox(children=(IntProgress(value=0, max=11), HTML(value='')))"
      ]
     },
     "metadata": {},
     "output_type": "display_data"
    },
    {
     "name": "stdout",
     "output_type": "stream",
     "text": [
      "kdd\n",
      "get community subgraphs for e:0.25 mcs:3\n"
     ]
    },
    {
     "data": {
      "application/vnd.jupyter.widget-view+json": {
       "model_id": "fdd89cc118cf43bba42ef6fc4e922be8",
       "version_major": 2,
       "version_minor": 0
      },
      "text/plain": [
       "HBox(children=(IntProgress(value=0, max=10), HTML(value='')))"
      ]
     },
     "metadata": {},
     "output_type": "display_data"
    },
    {
     "name": "stdout",
     "output_type": "stream",
     "text": [
      "get pquality for e:0.25 mcs:3\n"
     ]
    },
    {
     "data": {
      "application/vnd.jupyter.widget-view+json": {
       "model_id": "117ea81c37f34d919d4587f69d82f624",
       "version_major": 2,
       "version_minor": 0
      },
      "text/plain": [
       "HBox(children=(IntProgress(value=0, max=11), HTML(value='')))"
      ]
     },
     "metadata": {},
     "output_type": "display_data"
    },
    {
     "name": "stdout",
     "output_type": "stream",
     "text": [
      "get community subgraphs for e:0.5 mcs:3\n"
     ]
    },
    {
     "data": {
      "application/vnd.jupyter.widget-view+json": {
       "model_id": "d650e2c38dcb4c789d2965666d08ca92",
       "version_major": 2,
       "version_minor": 0
      },
      "text/plain": [
       "HBox(children=(IntProgress(value=0, max=12), HTML(value='')))"
      ]
     },
     "metadata": {},
     "output_type": "display_data"
    },
    {
     "name": "stdout",
     "output_type": "stream",
     "text": [
      "get pquality for e:0.5 mcs:3\n"
     ]
    },
    {
     "data": {
      "application/vnd.jupyter.widget-view+json": {
       "model_id": "bfd0abfd3ade4ea69fd5f98982990159",
       "version_major": 2,
       "version_minor": 0
      },
      "text/plain": [
       "HBox(children=(IntProgress(value=0, max=11), HTML(value='')))"
      ]
     },
     "metadata": {},
     "output_type": "display_data"
    },
    {
     "name": "stdout",
     "output_type": "stream",
     "text": [
      "pr\n",
      "get community subgraphs for e:0.25 mcs:3\n"
     ]
    },
    {
     "data": {
      "application/vnd.jupyter.widget-view+json": {
       "model_id": "3390ebd831c04273817633420d7413d8",
       "version_major": 2,
       "version_minor": 0
      },
      "text/plain": [
       "HBox(children=(IntProgress(value=0, max=92), HTML(value='')))"
      ]
     },
     "metadata": {},
     "output_type": "display_data"
    },
    {
     "name": "stdout",
     "output_type": "stream",
     "text": [
      "get pquality for e:0.25 mcs:3\n"
     ]
    },
    {
     "data": {
      "application/vnd.jupyter.widget-view+json": {
       "model_id": "6e33127c368b4c749938f3e3595e15f3",
       "version_major": 2,
       "version_minor": 0
      },
      "text/plain": [
       "HBox(children=(IntProgress(value=0, max=11), HTML(value='')))"
      ]
     },
     "metadata": {},
     "output_type": "display_data"
    }
   ],
   "source": [
    "m = {}\n",
    "for data_fn, config in configs.items():\n",
    "    m[data_fn] = {}\n",
    "    print(data_fn)\n",
    "    for c in config:\n",
    "        m[data_fn][c.demon['epsilon']] = Metrics(c)\n",
    "        m[data_fn][c.demon['epsilon']].execute()\n",
    "        m[data_fn][c.demon['epsilon']].save()"
   ]
  },
  {
   "cell_type": "markdown",
   "metadata": {},
   "source": [
    "## Analysis"
   ]
  },
  {
   "cell_type": "code",
   "execution_count": null,
   "metadata": {},
   "outputs": [],
   "source": [
    "e_pairwise_combs = helper.pairwise_combinations(sorted(epsilon, reverse=True))\n",
    "e_pairs = [(e,e) for e in epsilon]\n",
    "metric_name = 'indegree'"
   ]
  },
  {
   "cell_type": "markdown",
   "metadata": {},
   "source": [
    "### Graph metrics\n",
    "Graph analysis."
   ]
  },
  {
   "cell_type": "code",
   "execution_count": null,
   "metadata": {},
   "outputs": [],
   "source": [
    "for data_fn, m_list in m.items():\n",
    "    print(f'Metrics for {data_fn}')\n",
    "    metric_element = list(m_list.values())[0]\n",
    "    display(Metrics.graph_info(metric_element.g))"
   ]
  },
  {
   "cell_type": "markdown",
   "metadata": {},
   "source": [
    "* *# nodes*: number of users.\n",
    "* *# edges*: number of relations between users.\n",
    "* *avg degree*: average number of edges per node.\n",
    "* *avg degree*: average weigth sum per node.\n",
    "* *density*: expresses the how sparse is the adjacency matrix (i.e. how likely that a node has edges). 0 for a graph without edges and 1 for a complete graph.\n",
    "\n",
    "\\begin{align}\n",
    "&\\begin{aligned}\n",
    "d = \\frac{m}{n(n-1)}\n",
    "\\end{aligned}\\\\\n",
    "&\\begin{aligned}\n",
    "m = \\text{# edges}\n",
    "\\end{aligned}\\\\\n",
    "&\\begin{aligned}\n",
    "n = \\text{# nodes}\n",
    "\\end{aligned}\n",
    "\\end{align}\n",
    "\n",
    "* *connected*: for each pairs of nodes exists a path that connects them.\n",
    "* *strongly connected components*: group of nodes for which for each pair of nodes exists a path that connects them. Can be broadly relatable to the concept of community.\n",
    "* *avg clustering*: average for each node of the fraction of possible triangles through that node that exist.\n",
    "* *assortativity*: measures how much nodes are likely to connect to nodes with the same degree (>0) or with a different degree (<0)."
   ]
  },
  {
   "cell_type": "code",
   "execution_count": null,
   "metadata": {},
   "outputs": [],
   "source": [
    "Analysis.plot_compare_cumsum_deg_dist(m)"
   ]
  },
  {
   "cell_type": "markdown",
   "metadata": {},
   "source": [
    "Cumulative sum of degree distribution shows how the degree is distributed with respect to the number of nodes.\n",
    "\n",
    "* Nodes with a lower degree (left on the plot) are typically way less than the ones with a high degree (right on the plot).\n",
    "\n",
    "* Over the dotted line there's a number of node above the mean (the converse below the line) as per z-score.\n",
    "\n",
    "* Z-score normalization for the number of nodes has been chosen because it preserves the range (maximum and minimum) and introduces the dispersion of the serie (standard deviation / variance)\n",
    "\n",
    "\\begin{align}\n",
    "P(k) = \\frac{\\text{# nodes with degree >= k}}{\\text{# nodes}}\n",
    "\\end{align}\n",
    "\n",
    "Cumulative sum of degree distribution is more robust wrt the simple degree distribution because is less subject to small numbers. "
   ]
  },
  {
   "cell_type": "markdown",
   "metadata": {},
   "source": [
    "### Communities\n",
    "Found communities per epsilon parameter."
   ]
  },
  {
   "cell_type": "code",
   "execution_count": null,
   "metadata": {},
   "outputs": [],
   "source": [
    "for data_fn, m_list in m.items():\n",
    "    print(f'Communities found in {data_fn}')\n",
    "    display(Analysis.number_of_communities(m_list))"
   ]
  },
  {
   "cell_type": "markdown",
   "metadata": {},
   "source": [
    "Network analysis per found communities"
   ]
  },
  {
   "cell_type": "code",
   "execution_count": null,
   "metadata": {},
   "outputs": [],
   "source": [
    "for data_fn, m_list in m.items():\n",
    "    print(f'Metrics for {data_fn}')\n",
    "    for e, m_element in m_list.items():\n",
    "        print(e)\n",
    "        display(Analysis.describe_communities(m_element).describe())"
   ]
  },
  {
   "cell_type": "markdown",
   "metadata": {},
   "source": [
    "Size of found communities"
   ]
  },
  {
   "cell_type": "code",
   "execution_count": null,
   "metadata": {},
   "outputs": [],
   "source": [
    "for data_fn, m_list in m.items():\n",
    "    print(data_fn)\n",
    "    for e, m_element in m_list.items():\n",
    "        Analysis.plot_community_size(m_element)"
   ]
  },
  {
   "cell_type": "markdown",
   "metadata": {},
   "source": [
    "### Communities quality parameters\n",
    "Survey of modularity measures: https://github.com/Lab41/survey-community-detection \n",
    "* *Internal density*: number of edges (ms) in subset S divided by the total number of possible edges between all nodes (ns(ns-1)/2). Higher the better\n",
    "* *Average degree*: average internal degree across all nodes (ns) in subset S. Higher the better.\n",
    "* *FOMD (Fraction over median degree)*: Determines the number of nodes that have an internal degree greater than the median degree of nodes in Subset S. Higher the better.\n",
    "* *Expansion*: can be thought as “External Degree”. Measure of separability. Lower the better.\n",
    "* *Cut Ratio*: This metric is a measure of separability and can be thought of as \"External Density\". Lower the better.\n",
    "* *Conductance*: Ratio of edges inside the cluster to the number of edges leaving the cluster (captures surface area to volume). Higher the better.\n",
    "* *Normalized Cut*: Represents how well subset S is separated from graph G. Combines Conductance with the fraction of external edges over all non-community edges. Higher the better.\n",
    "* *Maximum ODF (Out Degree Fraction)*: Fraction of external conections to internal connections for each node (ns) in S. It then returns the fraction with the highest value. Lower the better.\n",
    "* *Average ODF*: same as Maximum ODF but takes the average. Lower the better.\n",
    "* *Flake-ODF*: Fraction of the number of nodes that have fewer internal connections than external connections to the number of nodes (ns) in subset S. Higher the better.\n"
   ]
  },
  {
   "cell_type": "code",
   "execution_count": null,
   "metadata": {},
   "outputs": [],
   "source": [
    "for data_fn, m_list in m.items():\n",
    "    print(f'Communities quality parameters found in {data_fn}')\n",
    "    for e, pq in Analysis.pquality(m_list):\n",
    "        print(f'pquality for e={e}')\n",
    "        display(pq)"
   ]
  },
  {
   "cell_type": "markdown",
   "metadata": {},
   "source": [
    "### Similarities\n",
    "Detect similarities between communities of the same partition.\n",
    "1. get the top 10 nodes in each community wrt the given metric (\"indegree\" in this case)\n",
    "2. apply Kendall-Tau given a pair of top 10 ranked communities\n",
    "\n",
    "Metrics:\n",
    "* *Kendall Tau*: it takes values between ±1, with a positive correlation indicating that the ranks of\n",
    "both variables increase together whilst a negative correlation indicates that as the rank of one variable increases the other one decreases.\n",
    "\n",
    "  source: [2001 Blackwell Science Ltd, Journal of Clinical Nursing](http://www.blackwellpublishing.com/specialarticles/jcn_10_715.pdf)\n",
    "\n",
    "\\begin{align}\n",
    "\\tau = \\frac{(\\text{# of concordant pairs}) - (\\text{# of disconcordant pairs})}\n",
    "{N \\cdot (N-1)/2}\n",
    "\\end{align}\n",
    "\n",
    " * *Indegree*: number of edges entering a node in a direct graph.\n",
    "\n",
    "* *H-Index*: According to the definition of h-index on Wikipedia:\n",
    "\"A scientist has index h if h of his/her N papers have at least h citations each, and the other N − h papers have no more than h citations each.\"\n",
    "For example, given citations = [3, 0, 6, 1, 5], which means the researcher has 5 papers in total and each of them had received 3, 0, 6, 1, 5 citations respectively.\n",
    "Since the researcher has 3 papers with at least 3 citations each and the remaining two with no more than 3 citations each, his h-index is 3.\n",
    "\n",
    "  Note: If there are several possible values for h, the maximum one is taken as the h-index.\n",
    "\n",
    "  source: [Leetcode's Github](https://github.com/kamyu104/LeetCode/blob/master/Python/h-index.py)"
   ]
  },
  {
   "cell_type": "markdown",
   "metadata": {},
   "source": [
    "#### Similarities between SAME epsilon settings\n",
    "Find similarities between communities of the same partition settings (since we are using overlapping commmunities detection)."
   ]
  },
  {
   "cell_type": "code",
   "execution_count": null,
   "metadata": {
    "scrolled": false
   },
   "outputs": [],
   "source": [
    "for data_fn, m_list in m.items():\n",
    "    print(f'heatmaps for dataset {data_fn}')\n",
    "    Analysis.communities_top_users_heatmap(m_list, metric_name, e_pairs, triangular=True)"
   ]
  },
  {
   "cell_type": "code",
   "execution_count": null,
   "metadata": {},
   "outputs": [],
   "source": [
    "for data_fn, m_list in m.items():\n",
    "    print(f'rankings for dataset {data_fn}')\n",
    "    r_list = Analysis.communities_top_users_rank(m_list, metric_name, e_pairs, threshold=0.6)\n",
    "    for r in r_list:\n",
    "        display(r.round(2))"
   ]
  },
  {
   "cell_type": "markdown",
   "metadata": {},
   "source": [
    "#### Similarities between DIFFERENT epsilon settings\n",
    "Epsilon parameter defines the likeliness of creating new communities.\n",
    "\n",
    "Thus the most important partitions will likely \"survive\" with different epsilon settings.\n",
    "\n",
    "Since we are comparing different partitions the heatmap is not triangular as before."
   ]
  },
  {
   "cell_type": "code",
   "execution_count": null,
   "metadata": {},
   "outputs": [],
   "source": [
    "for data_fn, m_list in m.items():\n",
    "    print(f'heatmaps for dataset {data_fn}')\n",
    "    Analysis.communities_top_users_heatmap(m_list, metric_name, e_pairwise_combs)"
   ]
  },
  {
   "cell_type": "code",
   "execution_count": null,
   "metadata": {},
   "outputs": [],
   "source": [
    "for data_fn in data_filenames:\n",
    "    print(f'rankings for dataset {data_fn}')\n",
    "    r_list = Analysis.communities_top_users_rank(m[data_fn], metric_name, e_pairwise_combs, threshold=0.6)\n",
    "    for r in r_list:\n",
    "        display(r.round(2))"
   ]
  },
  {
   "cell_type": "markdown",
   "metadata": {},
   "source": [
    "## Comparisons\n",
    "Compare DEMON community results with other community detection algorithms."
   ]
  },
  {
   "cell_type": "markdown",
   "metadata": {},
   "source": [
    "Find similarities between partitions found by different community detection algorithms with a heatmap and then list the most correlated communities."
   ]
  },
  {
   "cell_type": "code",
   "execution_count": null,
   "metadata": {},
   "outputs": [],
   "source": [
    "for data_fn, m_list in m.items():\n",
    "    print(f'heatmaps for dataset {data_fn}')\n",
    "    c = Comparisons.get_comparison_top_community(m_list[epsilon[0]])\n",
    "    Comparisons.communities_top_users_heatmap(m_list, c, metric_name)"
   ]
  },
  {
   "cell_type": "code",
   "execution_count": null,
   "metadata": {},
   "outputs": [],
   "source": [
    "for data_fn, m_list in m.items():\n",
    "    print(f'rankings for dataset {data_fn}')\n",
    "    c = Comparisons.get_comparison_top_community(m_list[epsilon[0]])\n",
    "    r_list = Comparisons.communities_top_users_rank(m_list, c, metric_name, 0.6)\n",
    "    for r in r_list:\n",
    "        display(r.round(2))"
   ]
  },
  {
   "cell_type": "code",
   "execution_count": null,
   "metadata": {},
   "outputs": [],
   "source": []
  }
 ],
 "metadata": {
  "kernelspec": {
   "display_name": "Python 3",
   "language": "python",
   "name": "python3"
  },
  "language_info": {
   "codemirror_mode": {
    "name": "ipython",
    "version": 3
   },
   "file_extension": ".py",
   "mimetype": "text/x-python",
   "name": "python",
   "nbconvert_exporter": "python",
   "pygments_lexer": "ipython3",
   "version": "3.6.5"
  }
 },
 "nbformat": 4,
 "nbformat_minor": 1
}
